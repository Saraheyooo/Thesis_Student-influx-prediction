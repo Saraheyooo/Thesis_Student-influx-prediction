{
 "cells": [
  {
   "cell_type": "code",
   "execution_count": 1,
   "metadata": {
    "collapsed": true
   },
   "outputs": [],
   "source": [
    "# plot feature importance manually\n",
    "import numpy as np\n",
    "import pandas as pd\n",
    "from pandas import DataFrame\n",
    "from xgboost import XGBClassifier\n",
    "from matplotlib import pyplot"
   ]
  },
  {
   "cell_type": "markdown",
   "source": [
    "# Sliding window - stimulation"
   ],
   "metadata": {
    "collapsed": false,
    "pycharm": {
     "name": "#%% md\n"
    }
   }
  },
  {
   "cell_type": "code",
   "execution_count": 3,
   "outputs": [],
   "source": [
    "import xgboost\n",
    "from matplotlib import pyplot\n",
    "from xgboost import XGBRegressor\n",
    "# define model\n",
    "model = XGBRegressor()"
   ],
   "metadata": {
    "collapsed": false,
    "pycharm": {
     "name": "#%%\n"
    }
   }
  },
  {
   "cell_type": "markdown",
   "source": [
    "## Caculate pre_errors in predictors"
   ],
   "metadata": {
    "collapsed": false,
    "pycharm": {
     "name": "#%% md\n"
    }
   }
  },
  {
   "cell_type": "code",
   "execution_count": 9,
   "outputs": [],
   "source": [
    "from numpy import asarray\n",
    "from pandas import read_csv\n",
    "from pandas import DataFrame\n",
    "from pandas import concat\n",
    "from sklearn.metrics import mean_absolute_error\n",
    "from sklearn.metrics import mean_absolute_percentage_error\n",
    "from xgboost import XGBRegressor\n",
    "from matplotlib import pyplot\n",
    "\n",
    "# transform a time series dataset into a supervised learning dataset\n",
    "def series_to_supervised(data, n_in=1, n_out=1, dropnan=True):\n",
    "\tn_vars = 1 if type(data) is list else data.shape[1]\n",
    "\tdf = DataFrame(data)\n",
    "\tcols = list()\n",
    "\t# input sequence (t-n, ... t-1)\n",
    "\tfor i in range(n_in, 0, -1):\n",
    "\t\tcols.append(df.shift(i))\n",
    "\t# forecast sequence (t, t+1, ... t+n)\n",
    "\tfor i in range(0, n_out):\n",
    "\t\tcols.append(df.shift(-i))\n",
    "\t# put it all together\n",
    "\tagg = concat(cols, axis=1)\n",
    "\t# drop rows with NaN values\n",
    "\tif dropnan:\n",
    "\t\tagg.dropna(inplace=True)\n",
    "\treturn agg.values\n",
    "\n",
    "# split a univariate dataset into train/test sets\n",
    "def train_test_split(data, n_test):\n",
    "\treturn data[:-n_test, :], data[-n_test:, :]\n",
    "\n",
    "# fit an xgboost model and make a one step prediction\n",
    "def xgboost_forecast(train, testX):\n",
    "\t# transform list into array\n",
    "\ttrain = asarray(train)\n",
    "\t# split into input and output columns\n",
    "\ttrainX, trainy = train[:, :-1], train[:, -1]\n",
    "\t# fit model\n",
    "\tmodel = XGBRegressor(objective='reg:squarederror',\n",
    "\t\t\t\t\t\t\t colsample_bytree = 0.5,\n",
    "\t\t\t\t\t\t\t learning_rate = 0.1,\n",
    "\t\t\t\t\t\t\t max_depth = 3,\n",
    "\t\t\t\t\t\t\t min_child_weight = 3,\n",
    "\t\t\t\t\t\t\t n_estimators = 1000,\n",
    "\t\t\t\t\t\t\t subsample = 0.7)\n",
    "\t#model = XGBRegressor(objective= 'reg:linear', n_estimators=1000)\n",
    "\tmodel.fit(trainX, trainy)\n",
    "\t# make a one-step prediction\n",
    "\tyhat = model.predict(asarray([testX]))\n",
    "\treturn yhat[0]\n",
    "\n",
    "# walk-forward validation for univariate data\n",
    "def walk_forward_validation(data, n_test):\n",
    "\tpredictions = list()\n",
    "\t# split dataset\n",
    "\ttrain, test = train_test_split(data, n_test)\n",
    "\t# seed history with training dataset\n",
    "\thistory = [x for x in train]\n",
    "\t# step over each time-step in the test set\n",
    "\tfor i in range(len(test)):\n",
    "\t\t# split test row into input and output columns\n",
    "\t\ttestX, testy = test[i, :-1], test[i, -1]\n",
    "\t\t# fit model on history and make a prediction\n",
    "\t\tyhat = xgboost_forecast(history, testX)\n",
    "\t\t# store forecast in list of predictions\n",
    "\t\tpredictions.append(yhat)\n",
    "\t\t# add actual observation to history for the next loop\n",
    "\t\thistory.append(test[i])\n",
    "\t\t# summarize progress\n",
    "\t\tprint('>expected=%.1f, predicted=%.1f' % (testy, yhat))\n",
    "\t# estimate prediction error\n",
    "\terror = mean_absolute_percentage_error(test[:, -1], predictions)\n",
    "\treturn error, test[:, -1], predictions\n"
   ],
   "metadata": {
    "collapsed": false,
    "pycharm": {
     "name": "#%%\n"
    }
   }
  },
  {
   "cell_type": "markdown",
   "source": [
    "## The MAPE comparation"
   ],
   "metadata": {
    "collapsed": false
   }
  },
  {
   "cell_type": "code",
   "execution_count": 35,
   "outputs": [
    {
     "data": {
      "text/plain": "      BA_math  BA_Informatica  BA_Physics_Astronomy  BA_AI  BA_NL  BA_EER  \\\nYear                                                                        \n2010       35              33                    34     11    469       3   \n2011       48              38                    38     14    520       5   \n2012       75              49                    65     24    642       8   \n2013       69              73                    62     11    643       6   \n2014       61              81                    55     13    684       4   \n2015       88             103                    82     21    919       3   \n2016       53              89                    61     33    889       9   \n2017       80             111                    65     30    961      11   \n2018       80             117                    70     45   1020      14   \n2019       71              95                    90     72   1046       6   \n\n      BA_INTER  BtoM  MA_NL  MA_EER  MA_INTER  Total_MA  \nYear                                                     \n2010         3   111     16      12         1        29  \n2011         2   114     21      18         4        43  \n2012         2   179     19      11         1        31  \n2013         3   165     26      13         2        41  \n2014         1   170     28       6         1        35  \n2015         7   225     33       9         4        46  \n2016         5   183     48       9         4        61  \n2017         3   229     33      11         6        50  \n2018         6   248     56      12        10        78  \n2019         4   234     57       6         7        70  ",
      "text/html": "<div>\n<style scoped>\n    .dataframe tbody tr th:only-of-type {\n        vertical-align: middle;\n    }\n\n    .dataframe tbody tr th {\n        vertical-align: top;\n    }\n\n    .dataframe thead th {\n        text-align: right;\n    }\n</style>\n<table border=\"1\" class=\"dataframe\">\n  <thead>\n    <tr style=\"text-align: right;\">\n      <th></th>\n      <th>BA_math</th>\n      <th>BA_Informatica</th>\n      <th>BA_Physics_Astronomy</th>\n      <th>BA_AI</th>\n      <th>BA_NL</th>\n      <th>BA_EER</th>\n      <th>BA_INTER</th>\n      <th>BtoM</th>\n      <th>MA_NL</th>\n      <th>MA_EER</th>\n      <th>MA_INTER</th>\n      <th>Total_MA</th>\n    </tr>\n    <tr>\n      <th>Year</th>\n      <th></th>\n      <th></th>\n      <th></th>\n      <th></th>\n      <th></th>\n      <th></th>\n      <th></th>\n      <th></th>\n      <th></th>\n      <th></th>\n      <th></th>\n      <th></th>\n    </tr>\n  </thead>\n  <tbody>\n    <tr>\n      <th>2010</th>\n      <td>35</td>\n      <td>33</td>\n      <td>34</td>\n      <td>11</td>\n      <td>469</td>\n      <td>3</td>\n      <td>3</td>\n      <td>111</td>\n      <td>16</td>\n      <td>12</td>\n      <td>1</td>\n      <td>29</td>\n    </tr>\n    <tr>\n      <th>2011</th>\n      <td>48</td>\n      <td>38</td>\n      <td>38</td>\n      <td>14</td>\n      <td>520</td>\n      <td>5</td>\n      <td>2</td>\n      <td>114</td>\n      <td>21</td>\n      <td>18</td>\n      <td>4</td>\n      <td>43</td>\n    </tr>\n    <tr>\n      <th>2012</th>\n      <td>75</td>\n      <td>49</td>\n      <td>65</td>\n      <td>24</td>\n      <td>642</td>\n      <td>8</td>\n      <td>2</td>\n      <td>179</td>\n      <td>19</td>\n      <td>11</td>\n      <td>1</td>\n      <td>31</td>\n    </tr>\n    <tr>\n      <th>2013</th>\n      <td>69</td>\n      <td>73</td>\n      <td>62</td>\n      <td>11</td>\n      <td>643</td>\n      <td>6</td>\n      <td>3</td>\n      <td>165</td>\n      <td>26</td>\n      <td>13</td>\n      <td>2</td>\n      <td>41</td>\n    </tr>\n    <tr>\n      <th>2014</th>\n      <td>61</td>\n      <td>81</td>\n      <td>55</td>\n      <td>13</td>\n      <td>684</td>\n      <td>4</td>\n      <td>1</td>\n      <td>170</td>\n      <td>28</td>\n      <td>6</td>\n      <td>1</td>\n      <td>35</td>\n    </tr>\n    <tr>\n      <th>2015</th>\n      <td>88</td>\n      <td>103</td>\n      <td>82</td>\n      <td>21</td>\n      <td>919</td>\n      <td>3</td>\n      <td>7</td>\n      <td>225</td>\n      <td>33</td>\n      <td>9</td>\n      <td>4</td>\n      <td>46</td>\n    </tr>\n    <tr>\n      <th>2016</th>\n      <td>53</td>\n      <td>89</td>\n      <td>61</td>\n      <td>33</td>\n      <td>889</td>\n      <td>9</td>\n      <td>5</td>\n      <td>183</td>\n      <td>48</td>\n      <td>9</td>\n      <td>4</td>\n      <td>61</td>\n    </tr>\n    <tr>\n      <th>2017</th>\n      <td>80</td>\n      <td>111</td>\n      <td>65</td>\n      <td>30</td>\n      <td>961</td>\n      <td>11</td>\n      <td>3</td>\n      <td>229</td>\n      <td>33</td>\n      <td>11</td>\n      <td>6</td>\n      <td>50</td>\n    </tr>\n    <tr>\n      <th>2018</th>\n      <td>80</td>\n      <td>117</td>\n      <td>70</td>\n      <td>45</td>\n      <td>1020</td>\n      <td>14</td>\n      <td>6</td>\n      <td>248</td>\n      <td>56</td>\n      <td>12</td>\n      <td>10</td>\n      <td>78</td>\n    </tr>\n    <tr>\n      <th>2019</th>\n      <td>71</td>\n      <td>95</td>\n      <td>90</td>\n      <td>72</td>\n      <td>1046</td>\n      <td>6</td>\n      <td>4</td>\n      <td>234</td>\n      <td>57</td>\n      <td>6</td>\n      <td>7</td>\n      <td>70</td>\n    </tr>\n  </tbody>\n</table>\n</div>"
     },
     "execution_count": 35,
     "metadata": {},
     "output_type": "execute_result"
    }
   ],
   "source": [
    "#reset\n",
    "df = pd.read_csv('../Code/Data/mf_UU_0607.csv',header=0, index_col=0)\n",
    "df = df.iloc[6:,]\n",
    "df"
   ],
   "metadata": {
    "collapsed": false,
    "pycharm": {
     "name": "#%%\n"
    }
   }
  },
  {
   "cell_type": "code",
   "execution_count": 77,
   "outputs": [
    {
     "name": "stdout",
     "output_type": "stream",
     "text": [
      "<class 'pandas.core.frame.DataFrame'>\n",
      "Int64Index: 15 entries, 2010 to 2024\n",
      "Data columns (total 9 columns):\n",
      " #   Column                Non-Null Count  Dtype  \n",
      "---  ------                --------------  -----  \n",
      " 0   BA_Math               15 non-null     float64\n",
      " 1   BA_Informatica        15 non-null     float64\n",
      " 2   BA_Physics_Astronomy  15 non-null     float64\n",
      " 3   BA_AI                 15 non-null     float64\n",
      " 4   BA_NL                 15 non-null     float64\n",
      " 5   BA_EEA                15 non-null     float64\n",
      " 6   BA_others             15 non-null     float64\n",
      " 7   BAtoMA                15 non-null     float64\n",
      " 8   MA_CS                 15 non-null     float64\n",
      "dtypes: float64(9)\n",
      "memory usage: 1.2 KB\n"
     ]
    }
   ],
   "source": [
    "df.info()"
   ],
   "metadata": {
    "collapsed": false,
    "pycharm": {
     "name": "#%%\n"
    }
   }
  },
  {
   "cell_type": "code",
   "execution_count": 36,
   "outputs": [],
   "source": [
    "def caculate_mse(df, n_in):\n",
    "\terrors = []\n",
    "\ttable = {}\n",
    "\tfor x in df.columns:\n",
    "\t\tseries = df[[x]]\n",
    "\t\tvalues = series.values\n",
    "\t\t# transform the time series data into supervised learning\n",
    "\t\tdata = series_to_supervised(values, n_in) #Number of lag observations as input (X)\n",
    "\t\t# evaluate\n",
    "\t\tmae, y, yhat = walk_forward_validation(data,2) # validation set\n",
    "\t\ttable['Method'] = 'XGB_lag{}'.format(n_in)\n",
    "\t\ttable[x] = mae\n",
    "\t\t# plot expected vs preducted\n",
    "\terrors.append(table)\n",
    "\treturn(errors)\n"
   ],
   "metadata": {
    "collapsed": false,
    "pycharm": {
     "name": "#%%\n"
    }
   }
  },
  {
   "cell_type": "code",
   "execution_count": 37,
   "outputs": [
    {
     "name": "stdout",
     "output_type": "stream",
     "text": [
      ">expected=80.0, predicted=70.6\n",
      ">expected=71.0, predicted=69.1\n",
      ">expected=117.0, predicted=92.7\n",
      ">expected=95.0, predicted=105.5\n",
      ">expected=70.0, predicted=65.0\n",
      ">expected=90.0, predicted=71.6\n",
      ">expected=45.0, predicted=22.4\n",
      ">expected=72.0, predicted=30.7\n",
      ">expected=1020.0, predicted=830.7\n",
      ">expected=1046.0, predicted=952.2\n",
      ">expected=14.0, predicted=6.9\n",
      ">expected=6.0, predicted=7.7\n",
      ">expected=6.0, predicted=3.8\n",
      ">expected=4.0, predicted=6.2\n",
      ">expected=248.0, predicted=196.7\n",
      ">expected=234.0, predicted=238.9\n",
      ">expected=56.0, predicted=33.9\n",
      ">expected=57.0, predicted=45.5\n",
      ">expected=12.0, predicted=9.7\n",
      ">expected=6.0, predicted=10.8\n",
      ">expected=10.0, predicted=3.6\n",
      ">expected=7.0, predicted=7.4\n",
      ">expected=78.0, predicted=47.2\n",
      ">expected=70.0, predicted=67.3\n",
      ">expected=80.0, predicted=69.6\n",
      ">expected=71.0, predicted=72.9\n",
      ">expected=117.0, predicted=95.5\n",
      ">expected=95.0, predicted=101.4\n",
      ">expected=70.0, predicted=65.1\n",
      ">expected=90.0, predicted=66.7\n",
      ">expected=45.0, predicted=24.4\n",
      ">expected=72.0, predicted=29.6\n",
      ">expected=1020.0, predicted=860.1\n",
      ">expected=1046.0, predicted=903.7\n",
      ">expected=14.0, predicted=6.9\n",
      ">expected=6.0, predicted=8.7\n",
      ">expected=6.0, predicted=3.9\n",
      ">expected=4.0, predicted=4.5\n",
      ">expected=248.0, predicted=200.4\n",
      ">expected=234.0, predicted=213.6\n",
      ">expected=56.0, predicted=35.7\n",
      ">expected=57.0, predicted=40.6\n",
      ">expected=12.0, predicted=8.7\n",
      ">expected=6.0, predicted=9.6\n",
      ">expected=10.0, predicted=3.7\n",
      ">expected=7.0, predicted=5.3\n",
      ">expected=78.0, predicted=48.1\n",
      ">expected=70.0, predicted=55.5\n",
      ">expected=80.0, predicted=73.7\n",
      ">expected=71.0, predicted=76.1\n",
      ">expected=117.0, predicted=101.0\n",
      ">expected=95.0, predicted=105.5\n",
      ">expected=70.0, predicted=69.3\n",
      ">expected=90.0, predicted=69.8\n",
      ">expected=45.0, predicted=28.0\n",
      ">expected=72.0, predicted=32.0\n",
      ">expected=1020.0, predicted=923.0\n",
      ">expected=1046.0, predicted=948.6\n",
      ">expected=14.0, predicted=7.7\n",
      ">expected=6.0, predicted=9.2\n",
      ">expected=6.0, predicted=5.0\n",
      ">expected=4.0, predicted=5.2\n",
      ">expected=248.0, predicted=212.3\n",
      ">expected=234.0, predicted=222.4\n",
      ">expected=56.0, predicted=38.0\n",
      ">expected=57.0, predicted=42.1\n",
      ">expected=12.0, predicted=9.7\n",
      ">expected=6.0, predicted=10.3\n",
      ">expected=10.0, predicted=4.7\n",
      ">expected=7.0, predicted=6.0\n",
      ">expected=78.0, predicted=52.3\n",
      ">expected=70.0, predicted=58.4\n"
     ]
    },
    {
     "data": {
      "text/plain": "     Method   BA_math  BA_Informatica  BA_Physics_Astronomy     BA_AI  \\\n0  XGB_lag3  0.071992        0.159047              0.137890  0.538266   \n1  XGB_lag4  0.078154        0.125712              0.164463  0.524145   \n2  XGB_lag5  0.075217        0.123592              0.117052  0.466324   \n\n      BA_NL    BA_EER  BA_INTER      BtoM     MA_NL    MA_EER  MA_INTER  \\\n0  0.137666  0.390676  0.452901  0.113893  0.298484  0.492991  0.352327   \n1  0.146429  0.476966  0.232281  0.139613  0.325088  0.436722  0.432509   \n2  0.094095  0.493757  0.237909  0.096677  0.291705  0.453883  0.336257   \n\n   Total_MA  \n0  0.217043  \n1  0.294736  \n2  0.247582  ",
      "text/html": "<div>\n<style scoped>\n    .dataframe tbody tr th:only-of-type {\n        vertical-align: middle;\n    }\n\n    .dataframe tbody tr th {\n        vertical-align: top;\n    }\n\n    .dataframe thead th {\n        text-align: right;\n    }\n</style>\n<table border=\"1\" class=\"dataframe\">\n  <thead>\n    <tr style=\"text-align: right;\">\n      <th></th>\n      <th>Method</th>\n      <th>BA_math</th>\n      <th>BA_Informatica</th>\n      <th>BA_Physics_Astronomy</th>\n      <th>BA_AI</th>\n      <th>BA_NL</th>\n      <th>BA_EER</th>\n      <th>BA_INTER</th>\n      <th>BtoM</th>\n      <th>MA_NL</th>\n      <th>MA_EER</th>\n      <th>MA_INTER</th>\n      <th>Total_MA</th>\n    </tr>\n  </thead>\n  <tbody>\n    <tr>\n      <th>0</th>\n      <td>XGB_lag3</td>\n      <td>0.071992</td>\n      <td>0.159047</td>\n      <td>0.137890</td>\n      <td>0.538266</td>\n      <td>0.137666</td>\n      <td>0.390676</td>\n      <td>0.452901</td>\n      <td>0.113893</td>\n      <td>0.298484</td>\n      <td>0.492991</td>\n      <td>0.352327</td>\n      <td>0.217043</td>\n    </tr>\n    <tr>\n      <th>1</th>\n      <td>XGB_lag4</td>\n      <td>0.078154</td>\n      <td>0.125712</td>\n      <td>0.164463</td>\n      <td>0.524145</td>\n      <td>0.146429</td>\n      <td>0.476966</td>\n      <td>0.232281</td>\n      <td>0.139613</td>\n      <td>0.325088</td>\n      <td>0.436722</td>\n      <td>0.432509</td>\n      <td>0.294736</td>\n    </tr>\n    <tr>\n      <th>2</th>\n      <td>XGB_lag5</td>\n      <td>0.075217</td>\n      <td>0.123592</td>\n      <td>0.117052</td>\n      <td>0.466324</td>\n      <td>0.094095</td>\n      <td>0.493757</td>\n      <td>0.237909</td>\n      <td>0.096677</td>\n      <td>0.291705</td>\n      <td>0.453883</td>\n      <td>0.336257</td>\n      <td>0.247582</td>\n    </tr>\n  </tbody>\n</table>\n</div>"
     },
     "execution_count": 37,
     "metadata": {},
     "output_type": "execute_result"
    }
   ],
   "source": [
    "#walk_forward_validation(data,2)\n",
    "err = []\n",
    "for i in range(3,6):\n",
    "\tmse = pd.DataFrame(caculate_mse(df, i))\n",
    "\terr.append(mse)\n",
    "pred_mse2 = pd.concat(err, ignore_index=True)\n",
    "pred_mse2"
   ],
   "metadata": {
    "collapsed": false,
    "pycharm": {
     "name": "#%%\n"
    }
   }
  },
  {
   "cell_type": "code",
   "execution_count": 28,
   "outputs": [
    {
     "name": "stdout",
     "output_type": "stream",
     "text": [
      ">expected=82.0, predicted=72.4\n",
      ">expected=82.0, predicted=74.1\n",
      ">expected=72.0, predicted=71.0\n",
      ">expected=120.0, predicted=94.2\n",
      ">expected=120.0, predicted=100.6\n",
      ">expected=103.0, predicted=111.7\n",
      ">expected=65.0, predicted=66.8\n",
      ">expected=71.0, predicted=66.0\n",
      ">expected=90.0, predicted=72.6\n",
      ">expected=33.0, predicted=20.3\n",
      ">expected=47.0, predicted=23.7\n",
      ">expected=78.0, predicted=32.4\n",
      ">expected=961.0, predicted=787.0\n",
      ">expected=1020.0, predicted=830.7\n",
      ">expected=1046.0, predicted=952.2\n",
      ">expected=11.0, predicted=5.5\n",
      ">expected=14.0, predicted=6.9\n",
      ">expected=6.0, predicted=7.7\n",
      ">expected=3.0, predicted=4.1\n",
      ">expected=6.0, predicted=3.8\n",
      ">expected=4.0, predicted=6.2\n",
      ">expected=229.0, predicted=186.6\n",
      ">expected=248.0, predicted=196.7\n",
      ">expected=234.0, predicted=238.9\n",
      ">expected=33.0, predicted=33.8\n",
      ">expected=56.0, predicted=33.9\n",
      ">expected=57.0, predicted=45.5\n",
      ">expected=11.0, predicted=9.4\n",
      ">expected=12.0, predicted=9.7\n",
      ">expected=6.0, predicted=10.8\n",
      ">expected=6.0, predicted=2.8\n",
      ">expected=10.0, predicted=3.6\n",
      ">expected=7.0, predicted=7.4\n",
      ">expected=50.0, predicted=46.0\n",
      ">expected=78.0, predicted=47.2\n",
      ">expected=70.0, predicted=67.3\n",
      ">expected=82.0, predicted=72.3\n",
      ">expected=82.0, predicted=73.8\n",
      ">expected=72.0, predicted=76.5\n",
      ">expected=120.0, predicted=99.0\n",
      ">expected=120.0, predicted=103.8\n",
      ">expected=103.0, predicted=108.4\n",
      ">expected=65.0, predicted=67.3\n",
      ">expected=71.0, predicted=66.1\n",
      ">expected=90.0, predicted=67.7\n",
      ">expected=33.0, predicted=23.0\n",
      ">expected=47.0, predicted=25.6\n",
      ">expected=78.0, predicted=31.0\n",
      ">expected=961.0, predicted=830.7\n",
      ">expected=1020.0, predicted=860.1\n",
      ">expected=1046.0, predicted=903.7\n",
      ">expected=11.0, predicted=5.3\n",
      ">expected=14.0, predicted=6.9\n",
      ">expected=6.0, predicted=8.7\n",
      ">expected=3.0, predicted=4.3\n",
      ">expected=6.0, predicted=3.9\n",
      ">expected=4.0, predicted=4.5\n",
      ">expected=229.0, predicted=192.7\n",
      ">expected=248.0, predicted=200.4\n",
      ">expected=234.0, predicted=213.6\n",
      ">expected=33.0, predicted=36.3\n",
      ">expected=56.0, predicted=35.7\n",
      ">expected=57.0, predicted=40.6\n",
      ">expected=11.0, predicted=8.0\n",
      ">expected=12.0, predicted=8.7\n",
      ">expected=6.0, predicted=9.6\n",
      ">expected=6.0, predicted=3.0\n",
      ">expected=10.0, predicted=3.7\n",
      ">expected=7.0, predicted=5.3\n",
      ">expected=50.0, predicted=47.3\n",
      ">expected=78.0, predicted=48.1\n",
      ">expected=70.0, predicted=55.5\n",
      ">expected=82.0, predicted=0.5\n",
      ">expected=82.0, predicted=78.3\n",
      ">expected=72.0, predicted=80.1\n",
      ">expected=120.0, predicted=0.5\n",
      ">expected=120.0, predicted=108.7\n",
      ">expected=103.0, predicted=112.0\n",
      ">expected=65.0, predicted=0.5\n",
      ">expected=71.0, predicted=70.0\n",
      ">expected=90.0, predicted=70.5\n",
      ">expected=33.0, predicted=0.5\n",
      ">expected=47.0, predicted=29.3\n",
      ">expected=78.0, predicted=33.6\n",
      ">expected=961.0, predicted=0.5\n",
      ">expected=1020.0, predicted=923.0\n",
      ">expected=1046.0, predicted=948.6\n",
      ">expected=11.0, predicted=0.5\n",
      ">expected=14.0, predicted=7.7\n",
      ">expected=6.0, predicted=9.2\n",
      ">expected=3.0, predicted=0.5\n",
      ">expected=6.0, predicted=5.0\n",
      ">expected=4.0, predicted=5.2\n",
      ">expected=229.0, predicted=0.5\n",
      ">expected=248.0, predicted=212.3\n",
      ">expected=234.0, predicted=222.4\n",
      ">expected=33.0, predicted=0.5\n",
      ">expected=56.0, predicted=38.0\n",
      ">expected=57.0, predicted=42.1\n",
      ">expected=11.0, predicted=0.5\n",
      ">expected=12.0, predicted=9.7\n",
      ">expected=6.0, predicted=10.3\n",
      ">expected=6.0, predicted=0.5\n",
      ">expected=10.0, predicted=4.7\n",
      ">expected=7.0, predicted=6.0\n",
      ">expected=50.0, predicted=0.5\n",
      ">expected=78.0, predicted=52.3\n",
      ">expected=70.0, predicted=58.4\n"
     ]
    },
    {
     "data": {
      "text/plain": "     Method   BA_math  BA_Informatica  BA_Physics_Astronomy     BA_AI  \\\n0  XGB_lag3  0.075701        0.153945              0.097243  0.488084   \n1  XGB_lag4  0.093689        0.120829              0.117582  0.453649   \n2  XGB_lag5  0.383580        0.392652              0.407609  0.643284   \n\n      BA_NL    BA_EER  BA_INTER      BtoM     MA_NL    MA_EER  MA_INTER  \\\n0  0.152125  0.427176  0.426254  0.137625  0.206921  0.377922  0.412215   \n1  0.142827  0.489695  0.303001  0.145962  0.250395  0.382057  0.455006   \n2  0.395890  0.647353  0.436383  0.397057  0.522753  0.620771  0.529727   \n\n   Total_MA  \n0  0.171577  \n1  0.214269  \n2  0.495055  ",
      "text/html": "<div>\n<style scoped>\n    .dataframe tbody tr th:only-of-type {\n        vertical-align: middle;\n    }\n\n    .dataframe tbody tr th {\n        vertical-align: top;\n    }\n\n    .dataframe thead th {\n        text-align: right;\n    }\n</style>\n<table border=\"1\" class=\"dataframe\">\n  <thead>\n    <tr style=\"text-align: right;\">\n      <th></th>\n      <th>Method</th>\n      <th>BA_math</th>\n      <th>BA_Informatica</th>\n      <th>BA_Physics_Astronomy</th>\n      <th>BA_AI</th>\n      <th>BA_NL</th>\n      <th>BA_EER</th>\n      <th>BA_INTER</th>\n      <th>BtoM</th>\n      <th>MA_NL</th>\n      <th>MA_EER</th>\n      <th>MA_INTER</th>\n      <th>Total_MA</th>\n    </tr>\n  </thead>\n  <tbody>\n    <tr>\n      <th>0</th>\n      <td>XGB_lag3</td>\n      <td>0.075701</td>\n      <td>0.153945</td>\n      <td>0.097243</td>\n      <td>0.488084</td>\n      <td>0.152125</td>\n      <td>0.427176</td>\n      <td>0.426254</td>\n      <td>0.137625</td>\n      <td>0.206921</td>\n      <td>0.377922</td>\n      <td>0.412215</td>\n      <td>0.171577</td>\n    </tr>\n    <tr>\n      <th>1</th>\n      <td>XGB_lag4</td>\n      <td>0.093689</td>\n      <td>0.120829</td>\n      <td>0.117582</td>\n      <td>0.453649</td>\n      <td>0.142827</td>\n      <td>0.489695</td>\n      <td>0.303001</td>\n      <td>0.145962</td>\n      <td>0.250395</td>\n      <td>0.382057</td>\n      <td>0.455006</td>\n      <td>0.214269</td>\n    </tr>\n    <tr>\n      <th>2</th>\n      <td>XGB_lag5</td>\n      <td>0.383580</td>\n      <td>0.392652</td>\n      <td>0.407609</td>\n      <td>0.643284</td>\n      <td>0.395890</td>\n      <td>0.647353</td>\n      <td>0.436383</td>\n      <td>0.397057</td>\n      <td>0.522753</td>\n      <td>0.620771</td>\n      <td>0.529727</td>\n      <td>0.495055</td>\n    </tr>\n  </tbody>\n</table>\n</div>"
     },
     "execution_count": 28,
     "metadata": {},
     "output_type": "execute_result"
    }
   ],
   "source": [
    "#walk_forward_validation(data,3)\n",
    "err = []\n",
    "for i in range(3,6):\n",
    "\tmse = pd.DataFrame(caculate_mse(df, i))\n",
    "\terr.append(mse)\n",
    "pred_mse3 = pd.concat(err, ignore_index=True)\n",
    "pred_mse3"
   ],
   "metadata": {
    "collapsed": false,
    "pycharm": {
     "name": "#%%\n"
    }
   }
  },
  {
   "cell_type": "code",
   "execution_count": null,
   "outputs": [],
   "source": [],
   "metadata": {
    "collapsed": false,
    "pycharm": {
     "name": "#%%\n"
    }
   }
  },
  {
   "cell_type": "code",
   "execution_count": 31,
   "outputs": [
    {
     "data": {
      "text/plain": "     Method   BA_math  BA_Informatica  BA_Physics_Astronomy     BA_AI  \\\n0  XGB_lag3  0.054844        0.123352              0.132380  0.540275   \n1  XGB_lag4  0.081590        0.093744              0.158425  0.528958   \n2  XGB_lag5  0.078419        0.091061              0.115260  0.472502   \n0  XGB_lag3  0.075701        0.153945              0.097243  0.488084   \n1  XGB_lag4  0.093689        0.120829              0.117582  0.453649   \n2  XGB_lag5  0.383580        0.392652              0.407609  0.643284   \n\n      BA_NL    BA_EER  BA_INTER      BtoM     MA_NL    MA_EER  MA_INTER  \\\n0  0.137666  0.390676  0.452901  0.113893  0.298484  0.492991  0.352327   \n1  0.146429  0.476966  0.232281  0.139613  0.325088  0.436722  0.432509   \n2  0.094095  0.493757  0.237909  0.096677  0.291705  0.453883  0.336257   \n0  0.152125  0.427176  0.426254  0.137625  0.206921  0.377922  0.412215   \n1  0.142827  0.489695  0.303001  0.145962  0.250395  0.382057  0.455006   \n2  0.395890  0.647353  0.436383  0.397057  0.522753  0.620771  0.529727   \n\n   Total_MA  \n0  0.217043  \n1  0.294736  \n2  0.247582  \n0  0.171577  \n1  0.214269  \n2  0.495055  ",
      "text/html": "<div>\n<style scoped>\n    .dataframe tbody tr th:only-of-type {\n        vertical-align: middle;\n    }\n\n    .dataframe tbody tr th {\n        vertical-align: top;\n    }\n\n    .dataframe thead th {\n        text-align: right;\n    }\n</style>\n<table border=\"1\" class=\"dataframe\">\n  <thead>\n    <tr style=\"text-align: right;\">\n      <th></th>\n      <th>Method</th>\n      <th>BA_math</th>\n      <th>BA_Informatica</th>\n      <th>BA_Physics_Astronomy</th>\n      <th>BA_AI</th>\n      <th>BA_NL</th>\n      <th>BA_EER</th>\n      <th>BA_INTER</th>\n      <th>BtoM</th>\n      <th>MA_NL</th>\n      <th>MA_EER</th>\n      <th>MA_INTER</th>\n      <th>Total_MA</th>\n    </tr>\n  </thead>\n  <tbody>\n    <tr>\n      <th>0</th>\n      <td>XGB_lag3</td>\n      <td>0.054844</td>\n      <td>0.123352</td>\n      <td>0.132380</td>\n      <td>0.540275</td>\n      <td>0.137666</td>\n      <td>0.390676</td>\n      <td>0.452901</td>\n      <td>0.113893</td>\n      <td>0.298484</td>\n      <td>0.492991</td>\n      <td>0.352327</td>\n      <td>0.217043</td>\n    </tr>\n    <tr>\n      <th>1</th>\n      <td>XGB_lag4</td>\n      <td>0.081590</td>\n      <td>0.093744</td>\n      <td>0.158425</td>\n      <td>0.528958</td>\n      <td>0.146429</td>\n      <td>0.476966</td>\n      <td>0.232281</td>\n      <td>0.139613</td>\n      <td>0.325088</td>\n      <td>0.436722</td>\n      <td>0.432509</td>\n      <td>0.294736</td>\n    </tr>\n    <tr>\n      <th>2</th>\n      <td>XGB_lag5</td>\n      <td>0.078419</td>\n      <td>0.091061</td>\n      <td>0.115260</td>\n      <td>0.472502</td>\n      <td>0.094095</td>\n      <td>0.493757</td>\n      <td>0.237909</td>\n      <td>0.096677</td>\n      <td>0.291705</td>\n      <td>0.453883</td>\n      <td>0.336257</td>\n      <td>0.247582</td>\n    </tr>\n    <tr>\n      <th>0</th>\n      <td>XGB_lag3</td>\n      <td>0.075701</td>\n      <td>0.153945</td>\n      <td>0.097243</td>\n      <td>0.488084</td>\n      <td>0.152125</td>\n      <td>0.427176</td>\n      <td>0.426254</td>\n      <td>0.137625</td>\n      <td>0.206921</td>\n      <td>0.377922</td>\n      <td>0.412215</td>\n      <td>0.171577</td>\n    </tr>\n    <tr>\n      <th>1</th>\n      <td>XGB_lag4</td>\n      <td>0.093689</td>\n      <td>0.120829</td>\n      <td>0.117582</td>\n      <td>0.453649</td>\n      <td>0.142827</td>\n      <td>0.489695</td>\n      <td>0.303001</td>\n      <td>0.145962</td>\n      <td>0.250395</td>\n      <td>0.382057</td>\n      <td>0.455006</td>\n      <td>0.214269</td>\n    </tr>\n    <tr>\n      <th>2</th>\n      <td>XGB_lag5</td>\n      <td>0.383580</td>\n      <td>0.392652</td>\n      <td>0.407609</td>\n      <td>0.643284</td>\n      <td>0.395890</td>\n      <td>0.647353</td>\n      <td>0.436383</td>\n      <td>0.397057</td>\n      <td>0.522753</td>\n      <td>0.620771</td>\n      <td>0.529727</td>\n      <td>0.495055</td>\n    </tr>\n  </tbody>\n</table>\n</div>"
     },
     "execution_count": 31,
     "metadata": {},
     "output_type": "execute_result"
    }
   ],
   "source": [
    "pd.concat([pred_mse2,pred_mse3])\n",
    "# use the prediction of lag4"
   ],
   "metadata": {
    "collapsed": false,
    "pycharm": {
     "name": "#%%\n"
    }
   }
  },
  {
   "cell_type": "markdown",
   "source": [
    "## Predict 2020-2024"
   ],
   "metadata": {
    "collapsed": false
   }
  },
  {
   "cell_type": "code",
   "execution_count": 16,
   "outputs": [],
   "source": [
    "# finalize model and make a prediction for monthly births with xgboost\n",
    "from numpy import asarray\n",
    "from pandas import read_csv\n",
    "from pandas import DataFrame\n",
    "from pandas import concat\n",
    "from xgboost import XGBRegressor\n"
   ],
   "metadata": {
    "collapsed": false,
    "pycharm": {
     "name": "#%%\n"
    }
   }
  },
  {
   "cell_type": "code",
   "execution_count": 17,
   "outputs": [],
   "source": [
    "def predect_new_data(df, pred_year, lagx):\n",
    "\tpred_new = []\n",
    "\ttable = {}\n",
    "\tfor x in df.columns:\n",
    "\t\tseries = df[[x]]\n",
    "\t\tvalues = series.values\n",
    "\t\ttrain = series_to_supervised(values, n_in=lagx)\n",
    "\t\t# split into input and output columns\n",
    "\t\ttrainX, trainy = train[:, :-1], train[:, -1]\n",
    "\t\t# fit model\n",
    "\t\tmodel = XGBRegressor(objective='reg:squarederror',\n",
    "\t\t\t\t\t\t\t colsample_bytree = 0.5,\n",
    "\t\t\t\t\t\t\t learning_rate = 0.1,\n",
    "\t\t\t\t\t\t\t max_depth = 3,\n",
    "\t\t\t\t\t\t\t min_child_weight = 3,\n",
    "\t\t\t\t\t\t\t n_estimators = 1000,\n",
    "\t\t\t\t\t\t\t subsample = 0.7)\n",
    "\n",
    "\t\tmodel.fit(trainX, trainy)\n",
    "\t\t# construct an input for a new preduction\n",
    "\t\trow = values[-lagx:].flatten()\n",
    "\t\t#row = np.append(row, 2020)\n",
    "\t\t# make a one-step prediction\n",
    "\t\tyhat = model.predict(asarray([row]))\n",
    "\t\t# plot expected vs preducted\n",
    "\t\ttable[x] = yhat[0]\n",
    "\tpred_new.append(table)\n",
    "\tpred_x = pd.DataFrame(pred_new, index=[pred_year])\n",
    "\n",
    "\treturn(pred_x)"
   ],
   "metadata": {
    "collapsed": false,
    "pycharm": {
     "name": "#%%\n"
    }
   }
  },
  {
   "cell_type": "raw",
   "source": [
    "tuning: objective='reg:squarederror',\n",
    "\t\t\t\t\t\t\t colsample_bytree = 0.5,\n",
    "\t\t\t\t\t\t\t learning_rate = 0.1,\n",
    "\t\t\t\t\t\t\t max_depth = 3,\n",
    "\t\t\t\t\t\t\t min_child_weight = 3,\n",
    "\t\t\t\t\t\t\t n_estimators = 1000,\n",
    "\t\t\t\t\t\t\t subsample = 0.7\n",
    "data: 2010-2019(10y)"
   ],
   "metadata": {
    "collapsed": false,
    "pycharm": {
     "name": "#%% raw\n"
    }
   }
  },
  {
   "cell_type": "code",
   "execution_count": 74,
   "outputs": [
    {
     "data": {
      "text/plain": "        BA_Math  BA_Informatica  BA_Physics_Astronomy      BA_AI        BA_NL  \\\n2010  37.000000       34.000000             37.000000  11.000000   469.000000   \n2011  50.000000       41.000000             38.000000  14.000000   520.000000   \n2012  76.000000       52.000000             65.000000  26.000000   642.000000   \n2013  70.000000       79.000000             63.000000  12.000000   643.000000   \n2014  64.000000       91.000000             57.000000  14.000000   684.000000   \n2015  96.000000      110.000000             83.000000  22.000000   919.000000   \n2016  57.000000       96.000000             62.000000  33.000000   889.000000   \n2017  82.000000      120.000000             65.000000  33.000000   961.000000   \n2018  82.000000      120.000000             71.000000  47.000000  1020.000000   \n2019  72.000000      103.000000             90.000000  78.000000  1046.000000   \n2020  81.357506      111.700508             74.721748  45.009220   973.550110   \n2021  87.950493      108.366272             88.509613  59.491333  1018.846130   \n2022  63.378033      109.373039             89.152298  53.613731  1005.798584   \n2023  90.170479      111.174393             87.264977  55.507092  1008.489136   \n2024  81.065804      113.335266             87.673248  54.212357  1008.405579   \n\n         BA_EEA  BA_others      BAtoMA      MA_CS  \n2010   3.000000   3.000000  111.000000  29.000000  \n2011   5.000000   2.000000  114.000000  43.000000  \n2012   8.000000   2.000000  179.000000  31.000000  \n2013   6.000000   3.000000  165.000000  41.000000  \n2014   4.000000   1.000000  170.000000  35.000000  \n2015   3.000000   7.000000  225.000000  46.000000  \n2016   9.000000   5.000000  183.000000  61.000000  \n2017  11.000000   3.000000  229.000000  50.000000  \n2018  14.000000   6.000000  248.000000  78.000000  \n2019   6.000000   4.000000  234.000000  70.000000  \n2020   5.408396   2.988311  243.233002  68.349182  \n2021   2.618738   2.752730  242.706223  68.745132  \n2022   8.908983   2.803103  244.530991  69.180199  \n2023   7.259508   2.168737  243.838898  69.266296  \n2024   9.541384   1.875725  242.325760  69.280533  ",
      "text/html": "<div>\n<style scoped>\n    .dataframe tbody tr th:only-of-type {\n        vertical-align: middle;\n    }\n\n    .dataframe tbody tr th {\n        vertical-align: top;\n    }\n\n    .dataframe thead th {\n        text-align: right;\n    }\n</style>\n<table border=\"1\" class=\"dataframe\">\n  <thead>\n    <tr style=\"text-align: right;\">\n      <th></th>\n      <th>BA_Math</th>\n      <th>BA_Informatica</th>\n      <th>BA_Physics_Astronomy</th>\n      <th>BA_AI</th>\n      <th>BA_NL</th>\n      <th>BA_EEA</th>\n      <th>BA_others</th>\n      <th>BAtoMA</th>\n      <th>MA_CS</th>\n    </tr>\n  </thead>\n  <tbody>\n    <tr>\n      <th>2010</th>\n      <td>37.000000</td>\n      <td>34.000000</td>\n      <td>37.000000</td>\n      <td>11.000000</td>\n      <td>469.000000</td>\n      <td>3.000000</td>\n      <td>3.000000</td>\n      <td>111.000000</td>\n      <td>29.000000</td>\n    </tr>\n    <tr>\n      <th>2011</th>\n      <td>50.000000</td>\n      <td>41.000000</td>\n      <td>38.000000</td>\n      <td>14.000000</td>\n      <td>520.000000</td>\n      <td>5.000000</td>\n      <td>2.000000</td>\n      <td>114.000000</td>\n      <td>43.000000</td>\n    </tr>\n    <tr>\n      <th>2012</th>\n      <td>76.000000</td>\n      <td>52.000000</td>\n      <td>65.000000</td>\n      <td>26.000000</td>\n      <td>642.000000</td>\n      <td>8.000000</td>\n      <td>2.000000</td>\n      <td>179.000000</td>\n      <td>31.000000</td>\n    </tr>\n    <tr>\n      <th>2013</th>\n      <td>70.000000</td>\n      <td>79.000000</td>\n      <td>63.000000</td>\n      <td>12.000000</td>\n      <td>643.000000</td>\n      <td>6.000000</td>\n      <td>3.000000</td>\n      <td>165.000000</td>\n      <td>41.000000</td>\n    </tr>\n    <tr>\n      <th>2014</th>\n      <td>64.000000</td>\n      <td>91.000000</td>\n      <td>57.000000</td>\n      <td>14.000000</td>\n      <td>684.000000</td>\n      <td>4.000000</td>\n      <td>1.000000</td>\n      <td>170.000000</td>\n      <td>35.000000</td>\n    </tr>\n    <tr>\n      <th>2015</th>\n      <td>96.000000</td>\n      <td>110.000000</td>\n      <td>83.000000</td>\n      <td>22.000000</td>\n      <td>919.000000</td>\n      <td>3.000000</td>\n      <td>7.000000</td>\n      <td>225.000000</td>\n      <td>46.000000</td>\n    </tr>\n    <tr>\n      <th>2016</th>\n      <td>57.000000</td>\n      <td>96.000000</td>\n      <td>62.000000</td>\n      <td>33.000000</td>\n      <td>889.000000</td>\n      <td>9.000000</td>\n      <td>5.000000</td>\n      <td>183.000000</td>\n      <td>61.000000</td>\n    </tr>\n    <tr>\n      <th>2017</th>\n      <td>82.000000</td>\n      <td>120.000000</td>\n      <td>65.000000</td>\n      <td>33.000000</td>\n      <td>961.000000</td>\n      <td>11.000000</td>\n      <td>3.000000</td>\n      <td>229.000000</td>\n      <td>50.000000</td>\n    </tr>\n    <tr>\n      <th>2018</th>\n      <td>82.000000</td>\n      <td>120.000000</td>\n      <td>71.000000</td>\n      <td>47.000000</td>\n      <td>1020.000000</td>\n      <td>14.000000</td>\n      <td>6.000000</td>\n      <td>248.000000</td>\n      <td>78.000000</td>\n    </tr>\n    <tr>\n      <th>2019</th>\n      <td>72.000000</td>\n      <td>103.000000</td>\n      <td>90.000000</td>\n      <td>78.000000</td>\n      <td>1046.000000</td>\n      <td>6.000000</td>\n      <td>4.000000</td>\n      <td>234.000000</td>\n      <td>70.000000</td>\n    </tr>\n    <tr>\n      <th>2020</th>\n      <td>81.357506</td>\n      <td>111.700508</td>\n      <td>74.721748</td>\n      <td>45.009220</td>\n      <td>973.550110</td>\n      <td>5.408396</td>\n      <td>2.988311</td>\n      <td>243.233002</td>\n      <td>68.349182</td>\n    </tr>\n    <tr>\n      <th>2021</th>\n      <td>87.950493</td>\n      <td>108.366272</td>\n      <td>88.509613</td>\n      <td>59.491333</td>\n      <td>1018.846130</td>\n      <td>2.618738</td>\n      <td>2.752730</td>\n      <td>242.706223</td>\n      <td>68.745132</td>\n    </tr>\n    <tr>\n      <th>2022</th>\n      <td>63.378033</td>\n      <td>109.373039</td>\n      <td>89.152298</td>\n      <td>53.613731</td>\n      <td>1005.798584</td>\n      <td>8.908983</td>\n      <td>2.803103</td>\n      <td>244.530991</td>\n      <td>69.180199</td>\n    </tr>\n    <tr>\n      <th>2023</th>\n      <td>90.170479</td>\n      <td>111.174393</td>\n      <td>87.264977</td>\n      <td>55.507092</td>\n      <td>1008.489136</td>\n      <td>7.259508</td>\n      <td>2.168737</td>\n      <td>243.838898</td>\n      <td>69.266296</td>\n    </tr>\n    <tr>\n      <th>2024</th>\n      <td>81.065804</td>\n      <td>113.335266</td>\n      <td>87.673248</td>\n      <td>54.212357</td>\n      <td>1008.405579</td>\n      <td>9.541384</td>\n      <td>1.875725</td>\n      <td>242.325760</td>\n      <td>69.280533</td>\n    </tr>\n  </tbody>\n</table>\n</div>"
     },
     "execution_count": 74,
     "metadata": {},
     "output_type": "execute_result"
    }
   ],
   "source": [
    "#df = pd.read_csv('../Code/meta_ver5_11to20.csv',header=0, index_col=0)\n",
    "# prediction from 2020 to 2025\n",
    "df = pd.read_csv('../Code/Data/VSNU_UU.csv',header=0, index_col=0)\n",
    "#df = pd.read_csv('../Code/Data/mf_UU_0607.csv',header=0, index_col=0)\n",
    "df = df.iloc[6:,]\n",
    "for i in range(2020,2025):\n",
    "\tlag3 = predect_new_data(df,i,3)[['BA_Math','BA_EEA','MA_CS']]\n",
    "\tlag4 = predect_new_data(df,i,4)[['BA_others','BA_Informatica','BAtoMA','BA_Physics_Astronomy']]\n",
    "\tlag5 = predect_new_data(df,i,5)[['BA_AI','BA_NL']]\n",
    "\n",
    "\tdfnew = pd.concat([lag3,lag4,lag5],join='outer', axis=1)\n",
    "# add prediction to df\n",
    "\tdf = df.append(dfnew)\n",
    "df"
   ],
   "metadata": {
    "collapsed": false,
    "pycharm": {
     "name": "#%%\n"
    }
   }
  },
  {
   "cell_type": "code",
   "execution_count": 76,
   "outputs": [
    {
     "data": {
      "text/plain": "\"\\n\\tlag3 = predect_new_data(df,i,3)[['BA_math','BA_EER','Total_MA']]\\n\\tlag4 = predect_new_data(df,i,4)[['BA_INTER','BA_Informatica','BA_Physics_Astronomy','BA_AI','BA_NL','BtoM']]\\n\\tlag5 = predect_new_data(df,i,5)[[]]\\n\""
     },
     "execution_count": 76,
     "metadata": {},
     "output_type": "execute_result"
    }
   ],
   "source": [
    "df.to_csv('Data/VSNU_simulation_UU.csv',index=True)\n",
    "\n",
    "\"\"\"\n",
    "\tlag3 = predect_new_data(df,i,3)[['BA_math','BA_EER','Total_MA']]\n",
    "\tlag4 = predect_new_data(df,i,4)[['BA_INTER','BA_Informatica','BA_Physics_Astronomy','BA_AI','BA_NL','BtoM']]\n",
    "\tlag5 = predect_new_data(df,i,5)[[]]\n",
    "\"\"\""
   ],
   "metadata": {
    "collapsed": false,
    "pycharm": {
     "name": "#%%\n"
    }
   }
  },
  {
   "cell_type": "code",
   "execution_count": 23,
   "outputs": [
    {
     "ename": "NameError",
     "evalue": "name 'X_train' is not defined",
     "output_type": "error",
     "traceback": [
      "\u001B[0;31m---------------------------------------------------------------------------\u001B[0m",
      "\u001B[0;31mNameError\u001B[0m                                 Traceback (most recent call last)",
      "\u001B[0;32m<ipython-input-23-e012a3e4d570>\u001B[0m in \u001B[0;36m<module>\u001B[0;34m\u001B[0m\n\u001B[1;32m     26\u001B[0m     \u001B[0;32mreturn\u001B[0m \u001B[0mgsearch\u001B[0m\u001B[0;34m.\u001B[0m\u001B[0mbest_params_\u001B[0m\u001B[0;34m\u001B[0m\u001B[0;34m\u001B[0m\u001B[0m\n\u001B[1;32m     27\u001B[0m \u001B[0;34m\u001B[0m\u001B[0m\n\u001B[0;32m---> 28\u001B[0;31m \u001B[0mhyperParameterTuning\u001B[0m\u001B[0;34m(\u001B[0m\u001B[0mX_train\u001B[0m\u001B[0;34m,\u001B[0m \u001B[0my_train\u001B[0m\u001B[0;34m)\u001B[0m\u001B[0;34m\u001B[0m\u001B[0;34m\u001B[0m\u001B[0m\n\u001B[0m\u001B[1;32m     29\u001B[0m \"\"\"\n\u001B[1;32m     30\u001B[0m \u001B[0;34m%\u001B[0m\u001B[0mtime\u001B[0m \u001B[0mxgb_model\u001B[0m\u001B[0;34m.\u001B[0m\u001B[0mfit\u001B[0m\u001B[0;34m(\u001B[0m\u001B[0mtrainX\u001B[0m\u001B[0;34m,\u001B[0m \u001B[0mtrainy\u001B[0m\u001B[0;34m,\u001B[0m \u001B[0mearly_stopping_rounds\u001B[0m\u001B[0;34m=\u001B[0m\u001B[0;36m5\u001B[0m\u001B[0;34m,\u001B[0m \u001B[0meval_set\u001B[0m\u001B[0;34m=\u001B[0m\u001B[0;34m[\u001B[0m\u001B[0;34m(\u001B[0m\u001B[0mX_val\u001B[0m\u001B[0;34m,\u001B[0m \u001B[0my_val\u001B[0m\u001B[0;34m)\u001B[0m\u001B[0;34m]\u001B[0m\u001B[0;34m,\u001B[0m \u001B[0mverbose\u001B[0m\u001B[0;34m=\u001B[0m\u001B[0;32mFalse\u001B[0m\u001B[0;34m)\u001B[0m\u001B[0;34m\u001B[0m\u001B[0;34m\u001B[0m\u001B[0m\n",
      "\u001B[0;31mNameError\u001B[0m: name 'X_train' is not defined"
     ]
    }
   ],
   "source": [
    "#XGBoost hyper-parameter tuning\n",
    "from sklearn.model_selection import GridSearchCV\n",
    "def hyperParameterTuning(X_train, y_train):\n",
    "    param_tuning = {\n",
    "        'learning_rate': [0.01, 0.1],\n",
    "        'max_depth': [3, 5, 7, 10],\n",
    "        'min_child_weight': [1, 3, 5],\n",
    "        'subsample': [0.5, 0.7],\n",
    "        'colsample_bytree': [0.5, 0.7],\n",
    "        'n_estimators' : [100, 200, 500, 1000],\n",
    "        'objective': ['reg:squarederror']\n",
    "    }\n",
    "\n",
    "    xgb_model = XGBRegressor()\n",
    "\n",
    "    gsearch = GridSearchCV(estimator = xgb_model,\n",
    "                           param_grid = param_tuning,\n",
    "                           #scoring = 'neg_mean_absolute_error', #MAE\n",
    "                           #scoring = 'neg_mean_squared_error',  #MSE\n",
    "                           cv = 5,\n",
    "                           n_jobs = -1,\n",
    "                           verbose = 1)\n",
    "\n",
    "    gsearch.fit(X_train,y_train)\n",
    "\n",
    "    return gsearch.best_params_\n",
    "\n",
    "hyperParameterTuning(trainX, trainy)\n",
    "\"\"\"\n",
    "%time xgb_model.fit(trainX, trainy, early_stopping_rounds=5, eval_set=[(X_val, y_val)], verbose=False)\n",
    "\n",
    "y_pred_xgb = xgb_model.predict(X_val)\n",
    "\n",
    "mae_xgb = mean_absolute_error(y_val, y_pred_xgb)\n",
    "\n",
    "print(\"MAE: \", mae_xgb)\n",
    "\"\"\""
   ],
   "metadata": {
    "collapsed": false,
    "pycharm": {
     "name": "#%%\n"
    }
   }
  },
  {
   "cell_type": "code",
   "execution_count": 113,
   "outputs": [],
   "source": [
    "# his + 2020-2025\n",
    "df.to_csv('simulation_data_2025_0602.csv',index=True)"
   ],
   "metadata": {
    "collapsed": false,
    "pycharm": {
     "name": "#%%\n"
    }
   }
  },
  {
   "cell_type": "code",
   "execution_count": 21,
   "outputs": [
    {
     "data": {
      "text/plain": "<matplotlib.legend.Legend at 0x7f95ea52bc40>"
     },
     "execution_count": 21,
     "metadata": {},
     "output_type": "execute_result"
    },
    {
     "data": {
      "text/plain": "<Figure size 432x288 with 1 Axes>",
      "image/png": "[encoded data removed]"
     },
     "metadata": {
      "needs_background": "light"
     },
     "output_type": "display_data"
    }
   ],
   "source": [
    "import matplotlib.pyplot as plt\n",
    "plt.plot(df)\n",
    "plt.legend(df.columns)"
   ],
   "metadata": {
    "collapsed": false,
    "pycharm": {
     "name": "#%%\n"
    }
   }
  },
  {
   "cell_type": "code",
   "execution_count": 21,
   "outputs": [
    {
     "data": {
      "text/plain": "[<matplotlib.lines.Line2D at 0x7ffadb03c190>]"
     },
     "execution_count": 21,
     "metadata": {},
     "output_type": "execute_result"
    },
    {
     "data": {
      "text/plain": "<Figure size 432x288 with 1 Axes>",
      "image/png": "[encoded data removed]"
     },
     "metadata": {
      "needs_background": "light"
     },
     "output_type": "display_data"
    }
   ],
   "source": [
    "import matplotlib.pyplot as plt\n",
    "plt.plot(df['Total_MA'])\n"
   ],
   "metadata": {
    "collapsed": false,
    "pycharm": {
     "name": "#%%\n"
    }
   }
  },
  {
   "cell_type": "code",
   "execution_count": 348,
   "outputs": [
    {
     "data": {
      "text/plain": "    Unnamed: 0     BA_INCA     BA_INKU    BA_NAST    BA_WISK  BAtoMA_perc  \\\n0         2011   62.000000   45.000000  59.000000  70.000000     0.821124   \n1         2012   59.000000   35.000000  79.000000  76.000000     0.810662   \n2         2013   92.000000   32.000000  76.000000  69.000000     0.821818   \n3         2014  107.000000   37.000000  69.000000  60.000000     0.796296   \n4         2015  110.000000   49.000000  83.000000  85.000000     0.843558   \n5         2016   96.000000   77.000000  62.000000  48.000000     0.871545   \n6         2017  120.000000  101.000000  65.000000  71.000000     0.910405   \n7         2018  120.000000  116.000000  71.000000  72.000000     0.901682   \n8         2019  103.000000   97.000000  90.000000  63.000000     0.897681   \n9         2020  119.999466   97.000519  63.476044  70.648193     0.898172   \n10        2021  113.179268   97.000832  66.476913  70.535751     0.898286   \n11        2022  113.179718   97.000946  71.000549  70.536064     0.898314   \n12        2023  119.985367   97.000893  89.998901  70.598648     0.898299   \n13        2024  113.205391   97.000824  63.475994  70.535980     0.898338   \n14        2025  112.177628   97.000916  66.475983  70.536186     0.898322   \n\n     UU_perc    MA_EER  MA_Inter  Inter_Master   Total_MA  \n0   0.571429  0.035429  0.007238     13.890000  35.000000  \n1   0.566667  0.039643  0.009643     14.700000  30.000000  \n2   0.707317  0.054746  0.013153     15.890000  41.000000  \n3   0.722222  0.036728  0.009877     16.990000  54.000000  \n4   0.615385  0.041489  0.013564     19.440000  39.000000  \n5   0.650000  0.044972  0.014401     22.010000  40.000000  \n6   0.575000  0.050863  0.014039     23.960000  40.000000  \n7   0.690476  0.062872  0.017428     25.790000  84.000000  \n8   0.703125  0.077401  0.024007     27.350000  64.000000  \n9   0.640803  0.076598  0.023352     27.348902  58.263607  \n10  0.649121  0.076507  0.023255     27.348799  42.163670  \n11  0.646832  0.076460  0.023117     27.349091  65.547173  \n12  0.682744  0.076400  0.023119     27.349104  79.519958  \n13  0.681640  0.076397  0.023091     27.349146  77.549179  \n14  0.682467  0.076387  0.023061     27.349043  56.155415  ",
      "text/html": "<div>\n<style scoped>\n    .dataframe tbody tr th:only-of-type {\n        vertical-align: middle;\n    }\n\n    .dataframe tbody tr th {\n        vertical-align: top;\n    }\n\n    .dataframe thead th {\n        text-align: right;\n    }\n</style>\n<table border=\"1\" class=\"dataframe\">\n  <thead>\n    <tr style=\"text-align: right;\">\n      <th></th>\n      <th>Unnamed: 0</th>\n      <th>BA_INCA</th>\n      <th>BA_INKU</th>\n      <th>BA_NAST</th>\n      <th>BA_WISK</th>\n      <th>BAtoMA_perc</th>\n      <th>UU_perc</th>\n      <th>MA_EER</th>\n      <th>MA_Inter</th>\n      <th>Inter_Master</th>\n      <th>Total_MA</th>\n    </tr>\n  </thead>\n  <tbody>\n    <tr>\n      <th>0</th>\n      <td>2011</td>\n      <td>62.000000</td>\n      <td>45.000000</td>\n      <td>59.000000</td>\n      <td>70.000000</td>\n      <td>0.821124</td>\n      <td>0.571429</td>\n      <td>0.035429</td>\n      <td>0.007238</td>\n      <td>13.890000</td>\n      <td>35.000000</td>\n    </tr>\n    <tr>\n      <th>1</th>\n      <td>2012</td>\n      <td>59.000000</td>\n      <td>35.000000</td>\n      <td>79.000000</td>\n      <td>76.000000</td>\n      <td>0.810662</td>\n      <td>0.566667</td>\n      <td>0.039643</td>\n      <td>0.009643</td>\n      <td>14.700000</td>\n      <td>30.000000</td>\n    </tr>\n    <tr>\n      <th>2</th>\n      <td>2013</td>\n      <td>92.000000</td>\n      <td>32.000000</td>\n      <td>76.000000</td>\n      <td>69.000000</td>\n      <td>0.821818</td>\n      <td>0.707317</td>\n      <td>0.054746</td>\n      <td>0.013153</td>\n      <td>15.890000</td>\n      <td>41.000000</td>\n    </tr>\n    <tr>\n      <th>3</th>\n      <td>2014</td>\n      <td>107.000000</td>\n      <td>37.000000</td>\n      <td>69.000000</td>\n      <td>60.000000</td>\n      <td>0.796296</td>\n      <td>0.722222</td>\n      <td>0.036728</td>\n      <td>0.009877</td>\n      <td>16.990000</td>\n      <td>54.000000</td>\n    </tr>\n    <tr>\n      <th>4</th>\n      <td>2015</td>\n      <td>110.000000</td>\n      <td>49.000000</td>\n      <td>83.000000</td>\n      <td>85.000000</td>\n      <td>0.843558</td>\n      <td>0.615385</td>\n      <td>0.041489</td>\n      <td>0.013564</td>\n      <td>19.440000</td>\n      <td>39.000000</td>\n    </tr>\n    <tr>\n      <th>5</th>\n      <td>2016</td>\n      <td>96.000000</td>\n      <td>77.000000</td>\n      <td>62.000000</td>\n      <td>48.000000</td>\n      <td>0.871545</td>\n      <td>0.650000</td>\n      <td>0.044972</td>\n      <td>0.014401</td>\n      <td>22.010000</td>\n      <td>40.000000</td>\n    </tr>\n    <tr>\n      <th>6</th>\n      <td>2017</td>\n      <td>120.000000</td>\n      <td>101.000000</td>\n      <td>65.000000</td>\n      <td>71.000000</td>\n      <td>0.910405</td>\n      <td>0.575000</td>\n      <td>0.050863</td>\n      <td>0.014039</td>\n      <td>23.960000</td>\n      <td>40.000000</td>\n    </tr>\n    <tr>\n      <th>7</th>\n      <td>2018</td>\n      <td>120.000000</td>\n      <td>116.000000</td>\n      <td>71.000000</td>\n      <td>72.000000</td>\n      <td>0.901682</td>\n      <td>0.690476</td>\n      <td>0.062872</td>\n      <td>0.017428</td>\n      <td>25.790000</td>\n      <td>84.000000</td>\n    </tr>\n    <tr>\n      <th>8</th>\n      <td>2019</td>\n      <td>103.000000</td>\n      <td>97.000000</td>\n      <td>90.000000</td>\n      <td>63.000000</td>\n      <td>0.897681</td>\n      <td>0.703125</td>\n      <td>0.077401</td>\n      <td>0.024007</td>\n      <td>27.350000</td>\n      <td>64.000000</td>\n    </tr>\n    <tr>\n      <th>9</th>\n      <td>2020</td>\n      <td>119.999466</td>\n      <td>97.000519</td>\n      <td>63.476044</td>\n      <td>70.648193</td>\n      <td>0.898172</td>\n      <td>0.640803</td>\n      <td>0.076598</td>\n      <td>0.023352</td>\n      <td>27.348902</td>\n      <td>58.263607</td>\n    </tr>\n    <tr>\n      <th>10</th>\n      <td>2021</td>\n      <td>113.179268</td>\n      <td>97.000832</td>\n      <td>66.476913</td>\n      <td>70.535751</td>\n      <td>0.898286</td>\n      <td>0.649121</td>\n      <td>0.076507</td>\n      <td>0.023255</td>\n      <td>27.348799</td>\n      <td>42.163670</td>\n    </tr>\n    <tr>\n      <th>11</th>\n      <td>2022</td>\n      <td>113.179718</td>\n      <td>97.000946</td>\n      <td>71.000549</td>\n      <td>70.536064</td>\n      <td>0.898314</td>\n      <td>0.646832</td>\n      <td>0.076460</td>\n      <td>0.023117</td>\n      <td>27.349091</td>\n      <td>65.547173</td>\n    </tr>\n    <tr>\n      <th>12</th>\n      <td>2023</td>\n      <td>119.985367</td>\n      <td>97.000893</td>\n      <td>89.998901</td>\n      <td>70.598648</td>\n      <td>0.898299</td>\n      <td>0.682744</td>\n      <td>0.076400</td>\n      <td>0.023119</td>\n      <td>27.349104</td>\n      <td>79.519958</td>\n    </tr>\n    <tr>\n      <th>13</th>\n      <td>2024</td>\n      <td>113.205391</td>\n      <td>97.000824</td>\n      <td>63.475994</td>\n      <td>70.535980</td>\n      <td>0.898338</td>\n      <td>0.681640</td>\n      <td>0.076397</td>\n      <td>0.023091</td>\n      <td>27.349146</td>\n      <td>77.549179</td>\n    </tr>\n    <tr>\n      <th>14</th>\n      <td>2025</td>\n      <td>112.177628</td>\n      <td>97.000916</td>\n      <td>66.475983</td>\n      <td>70.536186</td>\n      <td>0.898322</td>\n      <td>0.682467</td>\n      <td>0.076387</td>\n      <td>0.023061</td>\n      <td>27.349043</td>\n      <td>56.155415</td>\n    </tr>\n  </tbody>\n</table>\n</div>"
     },
     "execution_count": 348,
     "metadata": {},
     "output_type": "execute_result"
    }
   ],
   "source": [
    "dfnew_25 = pd.read_csv('../Code/simulation_data_2025.csv')\n",
    "dfnew_25"
   ],
   "metadata": {
    "collapsed": false,
    "pycharm": {
     "name": "#%%\n"
    }
   }
  }
 ],
 "metadata": {
  "kernelspec": {
   "display_name": "Python 3",
   "language": "python",
   "name": "python3"
  },
  "language_info": {
   "codemirror_mode": {
    "name": "ipython",
    "version": 2
   },
   "file_extension": ".py",
   "mimetype": "text/x-python",
   "name": "python",
   "nbconvert_exporter": "python",
   "pygments_lexer": "ipython2",
   "version": "2.7.6"
  }
 },
 "nbformat": 4,
 "nbformat_minor": 0
}