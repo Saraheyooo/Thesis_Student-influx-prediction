{
 "cells": [
  {
   "cell_type": "code",
   "execution_count": 1,
   "outputs": [],
   "source": [
    "import matplotlib.dates as mdates\n",
    "import matplotlib.pyplot as plt\n",
    "import pandas as pd\n",
    "import numpy as np"
   ],
   "metadata": {
    "collapsed": false,
    "pycharm": {
     "name": "#%%\n"
    }
   }
  },
  {
   "cell_type": "markdown",
   "source": [
    "# EDA"
   ],
   "metadata": {
    "collapsed": false,
    "pycharm": {
     "name": "#%% md\n"
    }
   }
  },
  {
   "cell_type": "code",
   "execution_count": null,
   "outputs": [],
   "source": [],
   "metadata": {
    "collapsed": false,
    "pycharm": {
     "name": "#%%\n"
    }
   }
  },
  {
   "cell_type": "code",
   "execution_count": null,
   "outputs": [],
   "source": [
    "# Master each year\n",
    "MA_enroll = pd.read_csv('../Data/MA_enrollment.csv')\n",
    "MA_enroll = MA_enroll[MA_enroll['opleiding'] == 'COSC']\n",
    "MA_enroll.groupby('cohort').sum()"
   ],
   "metadata": {
    "collapsed": false,
    "pycharm": {
     "name": "#%%\n"
    }
   }
  },
  {
   "cell_type": "code",
   "execution_count": null,
   "outputs": [],
   "source": [
    "# clean the program keys\n",
    "MA_enroll['bachelor'] = MA_enroll['bachelor'].apply(lambda x:'NAST' if 'NAST' in x else x)\n",
    "#MA_enroll['bachelor'] = MA_enroll['bachelor'].apply(lambda x:'INCA' if 'INCA' in x else x)\n",
    "MA_enroll['bachelor'] = MA_enroll['bachelor'].apply(lambda x:'INCA' if 'INKU' in x else x)\n",
    "MA_enroll['bachelor'] = MA_enroll['bachelor'].apply(lambda x:'non-UU' if '-' in x else x)\n",
    "MA_enroll"
   ],
   "metadata": {
    "collapsed": false,
    "pycharm": {
     "name": "#%%\n"
    }
   }
  },
  {
   "cell_type": "code",
   "execution_count": null,
   "outputs": [],
   "source": [
    "years = MA_enroll['cohort'].unique()\n",
    "df = MA_enroll\n",
    "year_counts = []\n",
    "for year in years:\n",
    "    meta = {}\n",
    "    subset = df.loc[(df['cohort'] == year)]\n",
    "    meta['Year'] = year\n",
    "    meta['Total_MA'] = subset['aantal'].sum()\n",
    "\n",
    "    for row in subset['bachelor']:\n",
    "        meta[row] = (subset[subset['bachelor'] == row])['aantal'].sum()\n",
    "\n",
    "    year_counts.append(meta)\n",
    "Meta = pd.DataFrame(year_counts).sort_values(['Year'])\n",
    "Meta['UU_perc'] = (Meta['Total_MA'] - Meta['non-UU'])/Meta['Total_MA']\n",
    "#Meta['MA_INs'] = Meta['INCA'] + Meta['INKU']\n",
    "Meta.sort_values('Year')"
   ],
   "metadata": {
    "collapsed": false,
    "pycharm": {
     "name": "#%%\n"
    }
   }
  },
  {
   "cell_type": "code",
   "execution_count": null,
   "outputs": [],
   "source": [],
   "metadata": {
    "collapsed": false,
    "pycharm": {
     "name": "#%%\n"
    }
   }
  },
  {
   "cell_type": "code",
   "execution_count": null,
   "outputs": [],
   "source": [],
   "metadata": {
    "collapsed": false,
    "pycharm": {
     "name": "#%%\n"
    }
   }
  },
  {
   "cell_type": "code",
   "execution_count": null,
   "outputs": [],
   "source": [],
   "metadata": {
    "collapsed": false,
    "pycharm": {
     "name": "#%%\n"
    }
   }
  },
  {
   "cell_type": "markdown",
   "source": [
    "# Nation table"
   ],
   "metadata": {
    "collapsed": false
   }
  },
  {
   "cell_type": "code",
   "execution_count": 2,
   "outputs": [
    {
     "data": {
      "text/plain": "                                                     0  code\n0    0000Onbekend                                  ...  0000\n1    0001Nederlandse                               ...  0001\n2    0002Behandeld als Nederlander                 ...  0002\n3    0027Slowaakse                                 ...  0027\n4    0028Tsjechische                               ...  0028\n..                                                 ...   ...\n213  0454Servische                                 ...  0454\n214  0455Montenegrijnse                            ...  0455\n215  0499Staatloos                                 ...  0499\n216  0500Vastgesteld niet-Nederlander              ...  0500\n217  9000Afgeleide bijzonder Nederlanderschap      ...  9000\n\n[218 rows x 2 columns]",
      "text/html": "<div>\n<style scoped>\n    .dataframe tbody tr th:only-of-type {\n        vertical-align: middle;\n    }\n\n    .dataframe tbody tr th {\n        vertical-align: top;\n    }\n\n    .dataframe thead th {\n        text-align: right;\n    }\n</style>\n<table border=\"1\" class=\"dataframe\">\n  <thead>\n    <tr style=\"text-align: right;\">\n      <th></th>\n      <th>0</th>\n      <th>code</th>\n    </tr>\n  </thead>\n  <tbody>\n    <tr>\n      <th>0</th>\n      <td>0000Onbekend                                  ...</td>\n      <td>0000</td>\n    </tr>\n    <tr>\n      <th>1</th>\n      <td>0001Nederlandse                               ...</td>\n      <td>0001</td>\n    </tr>\n    <tr>\n      <th>2</th>\n      <td>0002Behandeld als Nederlander                 ...</td>\n      <td>0002</td>\n    </tr>\n    <tr>\n      <th>3</th>\n      <td>0027Slowaakse                                 ...</td>\n      <td>0027</td>\n    </tr>\n    <tr>\n      <th>4</th>\n      <td>0028Tsjechische                               ...</td>\n      <td>0028</td>\n    </tr>\n    <tr>\n      <th>...</th>\n      <td>...</td>\n      <td>...</td>\n    </tr>\n    <tr>\n      <th>213</th>\n      <td>0454Servische                                 ...</td>\n      <td>0454</td>\n    </tr>\n    <tr>\n      <th>214</th>\n      <td>0455Montenegrijnse                            ...</td>\n      <td>0455</td>\n    </tr>\n    <tr>\n      <th>215</th>\n      <td>0499Staatloos                                 ...</td>\n      <td>0499</td>\n    </tr>\n    <tr>\n      <th>216</th>\n      <td>0500Vastgesteld niet-Nederlander              ...</td>\n      <td>0500</td>\n    </tr>\n    <tr>\n      <th>217</th>\n      <td>9000Afgeleide bijzonder Nederlanderschap      ...</td>\n      <td>9000</td>\n    </tr>\n  </tbody>\n</table>\n<p>218 rows × 2 columns</p>\n</div>"
     },
     "execution_count": 2,
     "metadata": {},
     "output_type": "execute_result"
    }
   ],
   "source": [
    "nation = pd.read_csv('../Data/levering 2021/Dec_nationaliteitscode.csv', header=None)\n",
    "\n",
    "nation[0].str.split(\" \", n = 1, expand = True)\n",
    "nation['code'] = nation[0].str[:4]\n",
    "nation"
   ],
   "metadata": {
    "collapsed": false,
    "pycharm": {
     "name": "#%%\n"
    }
   }
  },
  {
   "cell_type": "code",
   "execution_count": 3,
   "outputs": [
    {
     "data": {
      "text/plain": "                                                     0  code region\n0    0000Onbekend                                  ...  0000      0\n1    0001Nederlandse                               ...  0001      1\n2    0002Behandeld als Nederlander                 ...  0002      1\n3    0027Slowaakse                                 ...  0027      2\n4    0028Tsjechische                               ...  0028      2\n..                                                 ...   ...    ...\n213  0454Servische                                 ...  0454      2\n214  0455Montenegrijnse                            ...  0455      2\n215  0499Staatloos                                 ...  0499      3\n216  0500Vastgesteld niet-Nederlander              ...  0500      1\n217  9000Afgeleide bijzonder Nederlanderschap      ...  9000      1\n\n[218 rows x 3 columns]",
      "text/html": "<div>\n<style scoped>\n    .dataframe tbody tr th:only-of-type {\n        vertical-align: middle;\n    }\n\n    .dataframe tbody tr th {\n        vertical-align: top;\n    }\n\n    .dataframe thead th {\n        text-align: right;\n    }\n</style>\n<table border=\"1\" class=\"dataframe\">\n  <thead>\n    <tr style=\"text-align: right;\">\n      <th></th>\n      <th>0</th>\n      <th>code</th>\n      <th>region</th>\n    </tr>\n  </thead>\n  <tbody>\n    <tr>\n      <th>0</th>\n      <td>0000Onbekend                                  ...</td>\n      <td>0000</td>\n      <td>0</td>\n    </tr>\n    <tr>\n      <th>1</th>\n      <td>0001Nederlandse                               ...</td>\n      <td>0001</td>\n      <td>1</td>\n    </tr>\n    <tr>\n      <th>2</th>\n      <td>0002Behandeld als Nederlander                 ...</td>\n      <td>0002</td>\n      <td>1</td>\n    </tr>\n    <tr>\n      <th>3</th>\n      <td>0027Slowaakse                                 ...</td>\n      <td>0027</td>\n      <td>2</td>\n    </tr>\n    <tr>\n      <th>4</th>\n      <td>0028Tsjechische                               ...</td>\n      <td>0028</td>\n      <td>2</td>\n    </tr>\n    <tr>\n      <th>...</th>\n      <td>...</td>\n      <td>...</td>\n      <td>...</td>\n    </tr>\n    <tr>\n      <th>213</th>\n      <td>0454Servische                                 ...</td>\n      <td>0454</td>\n      <td>2</td>\n    </tr>\n    <tr>\n      <th>214</th>\n      <td>0455Montenegrijnse                            ...</td>\n      <td>0455</td>\n      <td>2</td>\n    </tr>\n    <tr>\n      <th>215</th>\n      <td>0499Staatloos                                 ...</td>\n      <td>0499</td>\n      <td>3</td>\n    </tr>\n    <tr>\n      <th>216</th>\n      <td>0500Vastgesteld niet-Nederlander              ...</td>\n      <td>0500</td>\n      <td>1</td>\n    </tr>\n    <tr>\n      <th>217</th>\n      <td>9000Afgeleide bijzonder Nederlanderschap      ...</td>\n      <td>9000</td>\n      <td>1</td>\n    </tr>\n  </tbody>\n</table>\n<p>218 rows × 3 columns</p>\n</div>"
     },
     "execution_count": 3,
     "metadata": {},
     "output_type": "execute_result"
    }
   ],
   "source": [
    "region = []\n",
    "for row in nation[0]:\n",
    "    if row.find('0000') == 0 :    region.append('0') #Na\n",
    "    elif row.find('Nederland')>0 :    region.append('1') #NL\n",
    "    elif row.find('Europa')>0 :    region.append('2') #EEA\n",
    "    else:           region.append('3') #International\n",
    "\n",
    "nation['region'] = region\n",
    "nation"
   ],
   "metadata": {
    "collapsed": false,
    "pycharm": {
     "name": "#%%\n"
    }
   }
  },
  {
   "cell_type": "markdown",
   "source": [
    "# Herkmsot B to M"
   ],
   "metadata": {
    "collapsed": false
   }
  },
  {
   "cell_type": "code",
   "execution_count": 227,
   "outputs": [
    {
     "data": {
      "text/plain": "        aantal  Unnamed: 8  Unnamed: 9  Unnamed: 10  Unnamed: 11\ncohort                                                          \n2011        35         0.0         0.0          0.0          0.0\n2012        30         0.0         0.0          0.0          0.0\n2013        41         0.0         0.0          0.0          0.0\n2014        54         0.0         0.0          0.0          0.0\n2015        39         0.0         0.0          0.0          0.0\n2016        40         0.0         0.0          0.0          0.0\n2017        40         0.0         0.0          0.0          0.0\n2018        84         0.0         0.0          0.0          0.0\n2019        64         0.0         0.0          0.0          0.0\n2020        70         0.0         0.0          0.0          0.0\n2021        82         0.0         0.0          0.0          0.0",
      "text/html": "<div>\n<style scoped>\n    .dataframe tbody tr th:only-of-type {\n        vertical-align: middle;\n    }\n\n    .dataframe tbody tr th {\n        vertical-align: top;\n    }\n\n    .dataframe thead th {\n        text-align: right;\n    }\n</style>\n<table border=\"1\" class=\"dataframe\">\n  <thead>\n    <tr style=\"text-align: right;\">\n      <th></th>\n      <th>aantal</th>\n      <th>Unnamed: 8</th>\n      <th>Unnamed: 9</th>\n      <th>Unnamed: 10</th>\n      <th>Unnamed: 11</th>\n    </tr>\n    <tr>\n      <th>cohort</th>\n      <th></th>\n      <th></th>\n      <th></th>\n      <th></th>\n      <th></th>\n    </tr>\n  </thead>\n  <tbody>\n    <tr>\n      <th>2011</th>\n      <td>35</td>\n      <td>0.0</td>\n      <td>0.0</td>\n      <td>0.0</td>\n      <td>0.0</td>\n    </tr>\n    <tr>\n      <th>2012</th>\n      <td>30</td>\n      <td>0.0</td>\n      <td>0.0</td>\n      <td>0.0</td>\n      <td>0.0</td>\n    </tr>\n    <tr>\n      <th>2013</th>\n      <td>41</td>\n      <td>0.0</td>\n      <td>0.0</td>\n      <td>0.0</td>\n      <td>0.0</td>\n    </tr>\n    <tr>\n      <th>2014</th>\n      <td>54</td>\n      <td>0.0</td>\n      <td>0.0</td>\n      <td>0.0</td>\n      <td>0.0</td>\n    </tr>\n    <tr>\n      <th>2015</th>\n      <td>39</td>\n      <td>0.0</td>\n      <td>0.0</td>\n      <td>0.0</td>\n      <td>0.0</td>\n    </tr>\n    <tr>\n      <th>2016</th>\n      <td>40</td>\n      <td>0.0</td>\n      <td>0.0</td>\n      <td>0.0</td>\n      <td>0.0</td>\n    </tr>\n    <tr>\n      <th>2017</th>\n      <td>40</td>\n      <td>0.0</td>\n      <td>0.0</td>\n      <td>0.0</td>\n      <td>0.0</td>\n    </tr>\n    <tr>\n      <th>2018</th>\n      <td>84</td>\n      <td>0.0</td>\n      <td>0.0</td>\n      <td>0.0</td>\n      <td>0.0</td>\n    </tr>\n    <tr>\n      <th>2019</th>\n      <td>64</td>\n      <td>0.0</td>\n      <td>0.0</td>\n      <td>0.0</td>\n      <td>0.0</td>\n    </tr>\n    <tr>\n      <th>2020</th>\n      <td>70</td>\n      <td>0.0</td>\n      <td>0.0</td>\n      <td>0.0</td>\n      <td>0.0</td>\n    </tr>\n    <tr>\n      <th>2021</th>\n      <td>82</td>\n      <td>0.0</td>\n      <td>0.0</td>\n      <td>0.0</td>\n      <td>0.0</td>\n    </tr>\n  </tbody>\n</table>\n</div>"
     },
     "execution_count": 227,
     "metadata": {},
     "output_type": "execute_result"
    }
   ],
   "source": [
    "df = pd.read_excel(\"Data/master_bachelor_herkomst_uu.xlsx\")\n",
    "df2 = df[df['opleiding'] == 'COSC']\n",
    "Sep = df2[df2['ingangsdatum'].astype(str).str.contains('09-01')]\n",
    "Feb = df2[df2['ingangsdatum'].astype(str).str.contains('02-01')]\n",
    "all = df2.groupby(['cohort']).sum()\n",
    "all"
   ],
   "metadata": {
    "collapsed": false,
    "pycharm": {
     "name": "#%%\n"
    }
   }
  },
  {
   "cell_type": "markdown",
   "source": [
    "# EOIcohort_VSNU_2020"
   ],
   "metadata": {
    "collapsed": false
   }
  },
  {
   "cell_type": "code",
   "execution_count": 13,
   "outputs": [
    {
     "name": "stderr",
     "output_type": "stream",
     "text": [
      "/opt/anaconda3/lib/python3.8/site-packages/IPython/core/interactiveshell.py:3165: DtypeWarning: Columns (28,29,30,31,32,33,37,41,66) have mixed types.Specify dtype option on import or set low_memory=False.\n",
      "  has_raised = await self.run_ast_nodes(code_ast.body, cell_name,\n"
     ]
    }
   ],
   "source": [
    "VNSU = pd.read_csv('../Data/levering 2021/EOIcohort_VSNU_2020.csv',sep=';', header = None)\n",
    "VNSU.sort_values([1]).tail()\n",
    "#1904037\n",
    "enrolls = pd.merge(VNSU, nation, left_on=[66], right_on=['code'])\n",
    "enrolls = enrolls[[1,2,3,4,6,7,46,50,'region']]\n",
    "MA_enrolls = enrolls[enrolls[7] == 'M']\n",
    "MA_enrolls = MA_enrolls[MA_enrolls[46] == 1] #first-year registration\n",
    "BA_enrolls = enrolls[enrolls[7] == 'B']"
   ],
   "metadata": {
    "collapsed": false,
    "pycharm": {
     "name": "#%%\n"
    }
   }
  },
  {
   "cell_type": "code",
   "execution_count": 213,
   "outputs": [
    {
     "name": "stderr",
     "output_type": "stream",
     "text": [
      "/opt/anaconda3/lib/python3.8/site-packages/IPython/core/interactiveshell.py:3165: DtypeWarning: Columns (28,29,30,31,32,33,37,41,66) have mixed types.Specify dtype option on import or set low_memory=False.\n",
      "  has_raised = await self.run_ast_nodes(code_ast.body, cell_name,\n"
     ]
    },
    {
     "data": {
      "text/plain": "               0_x     1     2      3      4        5  6  7  8  9  ...  64  \\\n3            63549  2020  21PB  60416  60416  41301.0  8  M  V  1  ...   1   \n4            72329  2014  21PL  66627  66627  41301.0  8  M  V  2  ...   1   \n5            98730  2014  21PN  66725  66725  31402.0  0  M  V  1  ...   2   \n6           110945  2020  21PL  66627  66627  41301.0  8  M  V  2  ...   1   \n8           117986  2020  21PE  60452  60452  42101.0  7  M  V  1  ...   1   \n...            ...   ...   ...    ...    ...      ... .. .. .. ..  ...  ..   \n1434132  306769995  2006  21PL  66986  66986  53201.0  3  M  V  1  ...   2   \n1434133  306770202  2006  21PJ  69303  69303  31403.0  8  M  V  1  ...   2   \n1434134  308081432  2010  21PK  60901  60901  41305.0  6  M  V  1  ...   1   \n1434140  304058603  2009  21PN  60224  60073  42102.0  7  M  V  1  ...   2   \n1434146  306234692  2008  21PN  66451  66451  42101.0  7  M  V  2  ...   1   \n\n         65    66    67  68  69  70  \\\n3        36  0001  2019  12       1   \n4        32  0001  2014   0       1   \n5        31  0001  2014   0       1   \n6        38  0001  2020   0       1   \n8        44  0001  2017   0       1   \n...      ..   ...   ...  ..  ..  ..   \n1434132  24  0453  2006   0       1   \n1434133  31  0453  2006   0  00   1   \n1434134  22  0453  2010   0       1   \n1434140  30  0002  2000   0       1   \n1434146  54  0002  2008   0       1   \n\n                                                       0_y  code  region  \n3        0001Nederlandse                               ...  0001       1  \n4        0001Nederlandse                               ...  0001       1  \n5        0001Nederlandse                               ...  0001       1  \n6        0001Nederlandse                               ...  0001       1  \n8        0001Nederlandse                               ...  0001       1  \n...                                                    ...   ...     ...  \n1434132  0453Burger van Servi� en Montenegro           ...  0453       2  \n1434133  0453Burger van Servi� en Montenegro           ...  0453       2  \n1434134  0453Burger van Servi� en Montenegro           ...  0453       2  \n1434140  0002Behandeld als Nederlander                 ...  0002       1  \n1434146  0002Behandeld als Nederlander                 ...  0002       1  \n\n[412186 rows x 74 columns]",
      "text/html": "<div>\n<style scoped>\n    .dataframe tbody tr th:only-of-type {\n        vertical-align: middle;\n    }\n\n    .dataframe tbody tr th {\n        vertical-align: top;\n    }\n\n    .dataframe thead th {\n        text-align: right;\n    }\n</style>\n<table border=\"1\" class=\"dataframe\">\n  <thead>\n    <tr style=\"text-align: right;\">\n      <th></th>\n      <th>0_x</th>\n      <th>1</th>\n      <th>2</th>\n      <th>3</th>\n      <th>4</th>\n      <th>5</th>\n      <th>6</th>\n      <th>7</th>\n      <th>8</th>\n      <th>9</th>\n      <th>...</th>\n      <th>64</th>\n      <th>65</th>\n      <th>66</th>\n      <th>67</th>\n      <th>68</th>\n      <th>69</th>\n      <th>70</th>\n      <th>0_y</th>\n      <th>code</th>\n      <th>region</th>\n    </tr>\n  </thead>\n  <tbody>\n    <tr>\n      <th>3</th>\n      <td>63549</td>\n      <td>2020</td>\n      <td>21PB</td>\n      <td>60416</td>\n      <td>60416</td>\n      <td>41301.0</td>\n      <td>8</td>\n      <td>M</td>\n      <td>V</td>\n      <td>1</td>\n      <td>...</td>\n      <td>1</td>\n      <td>36</td>\n      <td>0001</td>\n      <td>2019</td>\n      <td>12</td>\n      <td></td>\n      <td>1</td>\n      <td>0001Nederlandse                               ...</td>\n      <td>0001</td>\n      <td>1</td>\n    </tr>\n    <tr>\n      <th>4</th>\n      <td>72329</td>\n      <td>2014</td>\n      <td>21PL</td>\n      <td>66627</td>\n      <td>66627</td>\n      <td>41301.0</td>\n      <td>8</td>\n      <td>M</td>\n      <td>V</td>\n      <td>2</td>\n      <td>...</td>\n      <td>1</td>\n      <td>32</td>\n      <td>0001</td>\n      <td>2014</td>\n      <td>0</td>\n      <td></td>\n      <td>1</td>\n      <td>0001Nederlandse                               ...</td>\n      <td>0001</td>\n      <td>1</td>\n    </tr>\n    <tr>\n      <th>5</th>\n      <td>98730</td>\n      <td>2014</td>\n      <td>21PN</td>\n      <td>66725</td>\n      <td>66725</td>\n      <td>31402.0</td>\n      <td>0</td>\n      <td>M</td>\n      <td>V</td>\n      <td>1</td>\n      <td>...</td>\n      <td>2</td>\n      <td>31</td>\n      <td>0001</td>\n      <td>2014</td>\n      <td>0</td>\n      <td></td>\n      <td>1</td>\n      <td>0001Nederlandse                               ...</td>\n      <td>0001</td>\n      <td>1</td>\n    </tr>\n    <tr>\n      <th>6</th>\n      <td>110945</td>\n      <td>2020</td>\n      <td>21PL</td>\n      <td>66627</td>\n      <td>66627</td>\n      <td>41301.0</td>\n      <td>8</td>\n      <td>M</td>\n      <td>V</td>\n      <td>2</td>\n      <td>...</td>\n      <td>1</td>\n      <td>38</td>\n      <td>0001</td>\n      <td>2020</td>\n      <td>0</td>\n      <td></td>\n      <td>1</td>\n      <td>0001Nederlandse                               ...</td>\n      <td>0001</td>\n      <td>1</td>\n    </tr>\n    <tr>\n      <th>8</th>\n      <td>117986</td>\n      <td>2020</td>\n      <td>21PE</td>\n      <td>60452</td>\n      <td>60452</td>\n      <td>42101.0</td>\n      <td>7</td>\n      <td>M</td>\n      <td>V</td>\n      <td>1</td>\n      <td>...</td>\n      <td>1</td>\n      <td>44</td>\n      <td>0001</td>\n      <td>2017</td>\n      <td>0</td>\n      <td></td>\n      <td>1</td>\n      <td>0001Nederlandse                               ...</td>\n      <td>0001</td>\n      <td>1</td>\n    </tr>\n    <tr>\n      <th>...</th>\n      <td>...</td>\n      <td>...</td>\n      <td>...</td>\n      <td>...</td>\n      <td>...</td>\n      <td>...</td>\n      <td>...</td>\n      <td>...</td>\n      <td>...</td>\n      <td>...</td>\n      <td>...</td>\n      <td>...</td>\n      <td>...</td>\n      <td>...</td>\n      <td>...</td>\n      <td>...</td>\n      <td>...</td>\n      <td>...</td>\n      <td>...</td>\n      <td>...</td>\n      <td>...</td>\n    </tr>\n    <tr>\n      <th>1434132</th>\n      <td>306769995</td>\n      <td>2006</td>\n      <td>21PL</td>\n      <td>66986</td>\n      <td>66986</td>\n      <td>53201.0</td>\n      <td>3</td>\n      <td>M</td>\n      <td>V</td>\n      <td>1</td>\n      <td>...</td>\n      <td>2</td>\n      <td>24</td>\n      <td>0453</td>\n      <td>2006</td>\n      <td>0</td>\n      <td></td>\n      <td>1</td>\n      <td>0453Burger van Servi� en Montenegro           ...</td>\n      <td>0453</td>\n      <td>2</td>\n    </tr>\n    <tr>\n      <th>1434133</th>\n      <td>306770202</td>\n      <td>2006</td>\n      <td>21PJ</td>\n      <td>69303</td>\n      <td>69303</td>\n      <td>31403.0</td>\n      <td>8</td>\n      <td>M</td>\n      <td>V</td>\n      <td>1</td>\n      <td>...</td>\n      <td>2</td>\n      <td>31</td>\n      <td>0453</td>\n      <td>2006</td>\n      <td>0</td>\n      <td>00</td>\n      <td>1</td>\n      <td>0453Burger van Servi� en Montenegro           ...</td>\n      <td>0453</td>\n      <td>2</td>\n    </tr>\n    <tr>\n      <th>1434134</th>\n      <td>308081432</td>\n      <td>2010</td>\n      <td>21PK</td>\n      <td>60901</td>\n      <td>60901</td>\n      <td>41305.0</td>\n      <td>6</td>\n      <td>M</td>\n      <td>V</td>\n      <td>1</td>\n      <td>...</td>\n      <td>1</td>\n      <td>22</td>\n      <td>0453</td>\n      <td>2010</td>\n      <td>0</td>\n      <td></td>\n      <td>1</td>\n      <td>0453Burger van Servi� en Montenegro           ...</td>\n      <td>0453</td>\n      <td>2</td>\n    </tr>\n    <tr>\n      <th>1434140</th>\n      <td>304058603</td>\n      <td>2009</td>\n      <td>21PN</td>\n      <td>60224</td>\n      <td>60073</td>\n      <td>42102.0</td>\n      <td>7</td>\n      <td>M</td>\n      <td>V</td>\n      <td>1</td>\n      <td>...</td>\n      <td>2</td>\n      <td>30</td>\n      <td>0002</td>\n      <td>2000</td>\n      <td>0</td>\n      <td></td>\n      <td>1</td>\n      <td>0002Behandeld als Nederlander                 ...</td>\n      <td>0002</td>\n      <td>1</td>\n    </tr>\n    <tr>\n      <th>1434146</th>\n      <td>306234692</td>\n      <td>2008</td>\n      <td>21PN</td>\n      <td>66451</td>\n      <td>66451</td>\n      <td>42101.0</td>\n      <td>7</td>\n      <td>M</td>\n      <td>V</td>\n      <td>2</td>\n      <td>...</td>\n      <td>1</td>\n      <td>54</td>\n      <td>0002</td>\n      <td>2008</td>\n      <td>0</td>\n      <td></td>\n      <td>1</td>\n      <td>0002Behandeld als Nederlander                 ...</td>\n      <td>0002</td>\n      <td>1</td>\n    </tr>\n  </tbody>\n</table>\n<p>412186 rows × 74 columns</p>\n</div>"
     },
     "execution_count": 213,
     "metadata": {},
     "output_type": "execute_result"
    }
   ],
   "source": [
    "VNSU = pd.read_csv('../Data/levering 2021/EOIcohort_VSNU_2020.csv',sep=';', header = None)\n",
    "VNSU.sort_values([1]).tail()\n",
    "#1904037\n",
    "enrolls = pd.merge(VNSU, nation, left_on=[66], right_on=['code'])\n",
    "MA_enrolls = enrolls[enrolls[7] == 'M']\n",
    "MA_enrolls = MA_enrolls[MA_enrolls[46] == 1] #first-year registration\n",
    "MA_enrolls\n"
   ],
   "metadata": {
    "collapsed": false,
    "pycharm": {
     "name": "#%%\n"
    }
   }
  },
  {
   "cell_type": "code",
   "execution_count": 221,
   "outputs": [],
   "source": [
    "#MA_enrolls[(MA_enrolls[2] == '21PD') & (MA_enrolls[4]==66978)& (MA_enrolls[43]==56978)& (MA_enrolls[41]=='21PD')]\n",
    "MA_enrolls =MA_enrolls.fillna(0)"
   ],
   "metadata": {
    "collapsed": false,
    "pycharm": {
     "name": "#%%\n"
    }
   }
  },
  {
   "cell_type": "code",
   "execution_count": 222,
   "outputs": [
    {
     "data": {
      "text/plain": "    Year  56980  56978  56984  56981  56842\n15  2002      0      0      0      0      0\n14  2003      0      0      0      0      0\n18  2004      1      0      0      0      0\n16  2005      0     16      0      1      0\n17  2006      0     39      0      2      0\n10  2007      0     28      0      1      0\n8   2008      0     11      0      2      0\n6   2009      0      9      0      2      1\n9   2010      0      5      0      2      0\n5   2011      0      7      1      4      0\n4   2012      0      7      0      4      1\n7   2013      1     23      0      1      1\n0   2014      1     20      0      1      0\n2   2015      0     28      0      0      0\n12  2016      0     36      0      4      0\n13  2017      3     21      1      1      2\n1   2018      0     42      2      2      0\n3   2019      0     41      0      3      1\n11  2020      1     30      0      7      2",
      "text/html": "<div>\n<style scoped>\n    .dataframe tbody tr th:only-of-type {\n        vertical-align: middle;\n    }\n\n    .dataframe tbody tr th {\n        vertical-align: top;\n    }\n\n    .dataframe thead th {\n        text-align: right;\n    }\n</style>\n<table border=\"1\" class=\"dataframe\">\n  <thead>\n    <tr style=\"text-align: right;\">\n      <th></th>\n      <th>Year</th>\n      <th>56980</th>\n      <th>56978</th>\n      <th>56984</th>\n      <th>56981</th>\n      <th>56842</th>\n    </tr>\n  </thead>\n  <tbody>\n    <tr>\n      <th>15</th>\n      <td>2002</td>\n      <td>0</td>\n      <td>0</td>\n      <td>0</td>\n      <td>0</td>\n      <td>0</td>\n    </tr>\n    <tr>\n      <th>14</th>\n      <td>2003</td>\n      <td>0</td>\n      <td>0</td>\n      <td>0</td>\n      <td>0</td>\n      <td>0</td>\n    </tr>\n    <tr>\n      <th>18</th>\n      <td>2004</td>\n      <td>1</td>\n      <td>0</td>\n      <td>0</td>\n      <td>0</td>\n      <td>0</td>\n    </tr>\n    <tr>\n      <th>16</th>\n      <td>2005</td>\n      <td>0</td>\n      <td>16</td>\n      <td>0</td>\n      <td>1</td>\n      <td>0</td>\n    </tr>\n    <tr>\n      <th>17</th>\n      <td>2006</td>\n      <td>0</td>\n      <td>39</td>\n      <td>0</td>\n      <td>2</td>\n      <td>0</td>\n    </tr>\n    <tr>\n      <th>10</th>\n      <td>2007</td>\n      <td>0</td>\n      <td>28</td>\n      <td>0</td>\n      <td>1</td>\n      <td>0</td>\n    </tr>\n    <tr>\n      <th>8</th>\n      <td>2008</td>\n      <td>0</td>\n      <td>11</td>\n      <td>0</td>\n      <td>2</td>\n      <td>0</td>\n    </tr>\n    <tr>\n      <th>6</th>\n      <td>2009</td>\n      <td>0</td>\n      <td>9</td>\n      <td>0</td>\n      <td>2</td>\n      <td>1</td>\n    </tr>\n    <tr>\n      <th>9</th>\n      <td>2010</td>\n      <td>0</td>\n      <td>5</td>\n      <td>0</td>\n      <td>2</td>\n      <td>0</td>\n    </tr>\n    <tr>\n      <th>5</th>\n      <td>2011</td>\n      <td>0</td>\n      <td>7</td>\n      <td>1</td>\n      <td>4</td>\n      <td>0</td>\n    </tr>\n    <tr>\n      <th>4</th>\n      <td>2012</td>\n      <td>0</td>\n      <td>7</td>\n      <td>0</td>\n      <td>4</td>\n      <td>1</td>\n    </tr>\n    <tr>\n      <th>7</th>\n      <td>2013</td>\n      <td>1</td>\n      <td>23</td>\n      <td>0</td>\n      <td>1</td>\n      <td>1</td>\n    </tr>\n    <tr>\n      <th>0</th>\n      <td>2014</td>\n      <td>1</td>\n      <td>20</td>\n      <td>0</td>\n      <td>1</td>\n      <td>0</td>\n    </tr>\n    <tr>\n      <th>2</th>\n      <td>2015</td>\n      <td>0</td>\n      <td>28</td>\n      <td>0</td>\n      <td>0</td>\n      <td>0</td>\n    </tr>\n    <tr>\n      <th>12</th>\n      <td>2016</td>\n      <td>0</td>\n      <td>36</td>\n      <td>0</td>\n      <td>4</td>\n      <td>0</td>\n    </tr>\n    <tr>\n      <th>13</th>\n      <td>2017</td>\n      <td>3</td>\n      <td>21</td>\n      <td>1</td>\n      <td>1</td>\n      <td>2</td>\n    </tr>\n    <tr>\n      <th>1</th>\n      <td>2018</td>\n      <td>0</td>\n      <td>42</td>\n      <td>2</td>\n      <td>2</td>\n      <td>0</td>\n    </tr>\n    <tr>\n      <th>3</th>\n      <td>2019</td>\n      <td>0</td>\n      <td>41</td>\n      <td>0</td>\n      <td>3</td>\n      <td>1</td>\n    </tr>\n    <tr>\n      <th>11</th>\n      <td>2020</td>\n      <td>1</td>\n      <td>30</td>\n      <td>0</td>\n      <td>7</td>\n      <td>2</td>\n    </tr>\n  </tbody>\n</table>\n</div>"
     },
     "execution_count": 222,
     "metadata": {},
     "output_type": "execute_result"
    }
   ],
   "source": [
    "def caculate_enroll_MA_pre_education(school_code, program_code):\n",
    "    \"\"\"\n",
    "    calculate the number of gradated BA students in each program each year\n",
    "    \"\"\"\n",
    "    df = MA_enrolls[(MA_enrolls[2] == school_code) & (MA_enrolls[4]==66978)]\n",
    "\n",
    "    year_counts = []\n",
    "    for year in df[1].unique():\n",
    "        statuses = {}\n",
    "        subset = df.loc[(df[1] == year)]\n",
    "        #subset = df.loc[(df[1] == year)]\n",
    "        statuses[\"Year\"] = year\n",
    "        for i in program_code:\n",
    "            statuses[i] = len(subset[subset[43].astype(int) == i])\n",
    "\n",
    "        year_counts.append(statuses)\n",
    "    dfml = pd.DataFrame(year_counts).sort_values(['Year'])\n",
    "    return(dfml)\n",
    "MA_pre_education = caculate_enroll_MA_pre_education('21PD',[56980,56978,56984,56981,56842])\n",
    "MA_pre_education\n"
   ],
   "metadata": {
    "collapsed": false,
    "pycharm": {
     "name": "#%%\n"
    }
   }
  },
  {
   "cell_type": "code",
   "execution_count": 30,
   "outputs": [],
   "source": [
    "def caculate_enroll_MA(school_code, program_code):\n",
    "    \"\"\"\n",
    "    calculate the number of new enrollment MA student in CS each year\n",
    "\n",
    "    \"\"\"\n",
    "    df = MA_enrolls[(MA_enrolls[2] == school_code) & (MA_enrolls[4]==program_code)]\n",
    "    year_counts = []\n",
    "    for year in df[1].unique():\n",
    "        statuses = {}\n",
    "        subset = df.loc[(df[1] == year)]\n",
    "        statuses[\"Year\"] = year\n",
    "        statuses[\"Total_MA\"] = subset['region'].count()\n",
    "        for i in range(1, 4):\n",
    "            statuses[i] = len(subset[subset['region'].astype(int) == i]) #region\n",
    "        year_counts.append(statuses)\n",
    "    dfml = pd.DataFrame(year_counts).rename(columns={1:'MA_NL',2:'MA_EEA',3:'MA_others'}).sort_values(['Year'])\n",
    "    return(dfml)"
   ],
   "metadata": {
    "collapsed": false,
    "pycharm": {
     "name": "#%%\n"
    }
   }
  },
  {
   "cell_type": "code",
   "execution_count": 31,
   "outputs": [
    {
     "data": {
      "text/plain": "    Year  Total_MA  MA_NL  MA_EEA  MA_others\n15  2002         8      6       1          1\n14  2003        16     14       0          2\n18  2004        23     17       4          2\n16  2005        42     35       3          4\n17  2006        77     71       4          2\n10  2007        57     49       4          4\n8   2008        29     18       9          2\n6   2009        42     28      12          2\n9   2010        29     16      12          1\n5   2011        43     21      18          4\n4   2012        31     19      11          1\n7   2013        41     26      13          2\n0   2014        35     28       6          1\n2   2015        46     33       9          4\n12  2016        61     48       9          4\n13  2017        50     33      11          6\n1   2018        78     56      12         10\n3   2019        70     57       6          7\n11  2020        65     57       4          4",
      "text/html": "<div>\n<style scoped>\n    .dataframe tbody tr th:only-of-type {\n        vertical-align: middle;\n    }\n\n    .dataframe tbody tr th {\n        vertical-align: top;\n    }\n\n    .dataframe thead th {\n        text-align: right;\n    }\n</style>\n<table border=\"1\" class=\"dataframe\">\n  <thead>\n    <tr style=\"text-align: right;\">\n      <th></th>\n      <th>Year</th>\n      <th>Total_MA</th>\n      <th>MA_NL</th>\n      <th>MA_EEA</th>\n      <th>MA_others</th>\n    </tr>\n  </thead>\n  <tbody>\n    <tr>\n      <th>15</th>\n      <td>2002</td>\n      <td>8</td>\n      <td>6</td>\n      <td>1</td>\n      <td>1</td>\n    </tr>\n    <tr>\n      <th>14</th>\n      <td>2003</td>\n      <td>16</td>\n      <td>14</td>\n      <td>0</td>\n      <td>2</td>\n    </tr>\n    <tr>\n      <th>18</th>\n      <td>2004</td>\n      <td>23</td>\n      <td>17</td>\n      <td>4</td>\n      <td>2</td>\n    </tr>\n    <tr>\n      <th>16</th>\n      <td>2005</td>\n      <td>42</td>\n      <td>35</td>\n      <td>3</td>\n      <td>4</td>\n    </tr>\n    <tr>\n      <th>17</th>\n      <td>2006</td>\n      <td>77</td>\n      <td>71</td>\n      <td>4</td>\n      <td>2</td>\n    </tr>\n    <tr>\n      <th>10</th>\n      <td>2007</td>\n      <td>57</td>\n      <td>49</td>\n      <td>4</td>\n      <td>4</td>\n    </tr>\n    <tr>\n      <th>8</th>\n      <td>2008</td>\n      <td>29</td>\n      <td>18</td>\n      <td>9</td>\n      <td>2</td>\n    </tr>\n    <tr>\n      <th>6</th>\n      <td>2009</td>\n      <td>42</td>\n      <td>28</td>\n      <td>12</td>\n      <td>2</td>\n    </tr>\n    <tr>\n      <th>9</th>\n      <td>2010</td>\n      <td>29</td>\n      <td>16</td>\n      <td>12</td>\n      <td>1</td>\n    </tr>\n    <tr>\n      <th>5</th>\n      <td>2011</td>\n      <td>43</td>\n      <td>21</td>\n      <td>18</td>\n      <td>4</td>\n    </tr>\n    <tr>\n      <th>4</th>\n      <td>2012</td>\n      <td>31</td>\n      <td>19</td>\n      <td>11</td>\n      <td>1</td>\n    </tr>\n    <tr>\n      <th>7</th>\n      <td>2013</td>\n      <td>41</td>\n      <td>26</td>\n      <td>13</td>\n      <td>2</td>\n    </tr>\n    <tr>\n      <th>0</th>\n      <td>2014</td>\n      <td>35</td>\n      <td>28</td>\n      <td>6</td>\n      <td>1</td>\n    </tr>\n    <tr>\n      <th>2</th>\n      <td>2015</td>\n      <td>46</td>\n      <td>33</td>\n      <td>9</td>\n      <td>4</td>\n    </tr>\n    <tr>\n      <th>12</th>\n      <td>2016</td>\n      <td>61</td>\n      <td>48</td>\n      <td>9</td>\n      <td>4</td>\n    </tr>\n    <tr>\n      <th>13</th>\n      <td>2017</td>\n      <td>50</td>\n      <td>33</td>\n      <td>11</td>\n      <td>6</td>\n    </tr>\n    <tr>\n      <th>1</th>\n      <td>2018</td>\n      <td>78</td>\n      <td>56</td>\n      <td>12</td>\n      <td>10</td>\n    </tr>\n    <tr>\n      <th>3</th>\n      <td>2019</td>\n      <td>70</td>\n      <td>57</td>\n      <td>6</td>\n      <td>7</td>\n    </tr>\n    <tr>\n      <th>11</th>\n      <td>2020</td>\n      <td>65</td>\n      <td>57</td>\n      <td>4</td>\n      <td>4</td>\n    </tr>\n  </tbody>\n</table>\n</div>"
     },
     "execution_count": 31,
     "metadata": {},
     "output_type": "execute_result"
    }
   ],
   "source": [
    "MAcheck = caculate_enroll_MA('21PD', 66978)\n",
    "MAcheck"
   ],
   "metadata": {
    "collapsed": false,
    "pycharm": {
     "name": "#%%\n"
    }
   }
  },
  {
   "cell_type": "markdown",
   "source": [
    "## The BA Gediplomeerdencohort"
   ],
   "metadata": {
    "collapsed": false
   }
  },
  {
   "cell_type": "code",
   "execution_count": 32,
   "outputs": [
    {
     "name": "stderr",
     "output_type": "stream",
     "text": [
      "/opt/anaconda3/lib/python3.8/site-packages/IPython/core/interactiveshell.py:3165: DtypeWarning: Columns (33) have mixed types.Specify dtype option on import or set low_memory=False.\n",
      "  has_raised = await self.run_ast_nodes(code_ast.body, cell_name,\n"
     ]
    }
   ],
   "source": [
    "grad_VSNU = pd.read_csv('../Data/levering 2021/Gediplomeerdencohort_VSNU_2020.csv',sep=';', header = None)\n",
    "grad_VSNU = grad_VSNU.sort_values([1])# 1168331\n",
    "# [3]==school\n",
    "# [7]==4:tech, 3:nature\n",
    "\n",
    "# [8]==B\n",
    "# [31]== gender\n",
    "# [33]== nation"
   ],
   "metadata": {
    "collapsed": false,
    "pycharm": {
     "name": "#%%\n"
    }
   }
  },
  {
   "cell_type": "code",
   "execution_count": 33,
   "outputs": [],
   "source": [
    "grad_VSNU = grad_VSNU.sort_values([1])\n",
    "grads = grad_VSNU[(grad_VSNU[7] == 4) | (grad_VSNU[7] == 3)]\n",
    "grads = pd.merge(grads, nation, left_on=[33], right_on=['code'])\n",
    "grads = grads[[1,2,3,5,8,7,17,18,19,'region']]\n",
    "MA_grads = grads[grads[8] == 'M']\n",
    "BA_grads = grads[grads[8] == 'B']"
   ],
   "metadata": {
    "collapsed": false,
    "pycharm": {
     "name": "#%%\n"
    }
   }
  },
  {
   "cell_type": "code",
   "execution_count": 201,
   "outputs": [],
   "source": [
    "def caculate_grad_BA_numbers(school_code, program_code):\n",
    "    \"\"\"\n",
    "    calculate the number of gradated BA students in each program each year\n",
    "    \"\"\"\n",
    "    df = BA_grads[(BA_grads[3] == school_code)]\n",
    "\n",
    "    year_counts = []\n",
    "    for year in df[1].unique():\n",
    "        statuses = {}\n",
    "        subset = df.loc[(df[1] == year)]\n",
    "        #subset = df.loc[(df[1] == year)]\n",
    "        statuses[\"Year\"] = year\n",
    "        for i in program_code:\n",
    "            statuses[i] = len(subset[subset[5].astype(int) == i])\n",
    "\n",
    "        year_counts.append(statuses)\n",
    "    dfml = pd.DataFrame(year_counts).sort_values(['Year'])\n",
    "    return(dfml)"
   ],
   "metadata": {
    "collapsed": false,
    "pycharm": {
     "name": "#%%\n"
    }
   }
  },
  {
   "cell_type": "code",
   "execution_count": 202,
   "outputs": [
    {
     "data": {
      "text/plain": "    Year  56980  56978  56984  56981  56842\n0   2002      3      1      4      8      1\n1   2003      5      8      7      0      9\n2   2004     12     38     35     14     22\n3   2005     36     84     48     37     36\n4   2006     39     69     62     45     38\n5   2007     19     21     21      4     12\n6   2008     33     29     46     20     21\n7   2009     42     48     72     22     33\n8   2010     37     34     37     11     17\n9   2011     50     41     38     14     30\n10  2012     76     52     65     26     23\n11  2013     70     79     63     12     24\n12  2014     64     91     57     14     28\n13  2015     96    110     83     22     49\n14  2016     57     96     62     33     77\n15  2017     82    120     65     33    101\n16  2018     82    120     71     47    116\n17  2019     72    103     90     78     97",
      "text/html": "<div>\n<style scoped>\n    .dataframe tbody tr th:only-of-type {\n        vertical-align: middle;\n    }\n\n    .dataframe tbody tr th {\n        vertical-align: top;\n    }\n\n    .dataframe thead th {\n        text-align: right;\n    }\n</style>\n<table border=\"1\" class=\"dataframe\">\n  <thead>\n    <tr style=\"text-align: right;\">\n      <th></th>\n      <th>Year</th>\n      <th>56980</th>\n      <th>56978</th>\n      <th>56984</th>\n      <th>56981</th>\n      <th>56842</th>\n    </tr>\n  </thead>\n  <tbody>\n    <tr>\n      <th>0</th>\n      <td>2002</td>\n      <td>3</td>\n      <td>1</td>\n      <td>4</td>\n      <td>8</td>\n      <td>1</td>\n    </tr>\n    <tr>\n      <th>1</th>\n      <td>2003</td>\n      <td>5</td>\n      <td>8</td>\n      <td>7</td>\n      <td>0</td>\n      <td>9</td>\n    </tr>\n    <tr>\n      <th>2</th>\n      <td>2004</td>\n      <td>12</td>\n      <td>38</td>\n      <td>35</td>\n      <td>14</td>\n      <td>22</td>\n    </tr>\n    <tr>\n      <th>3</th>\n      <td>2005</td>\n      <td>36</td>\n      <td>84</td>\n      <td>48</td>\n      <td>37</td>\n      <td>36</td>\n    </tr>\n    <tr>\n      <th>4</th>\n      <td>2006</td>\n      <td>39</td>\n      <td>69</td>\n      <td>62</td>\n      <td>45</td>\n      <td>38</td>\n    </tr>\n    <tr>\n      <th>5</th>\n      <td>2007</td>\n      <td>19</td>\n      <td>21</td>\n      <td>21</td>\n      <td>4</td>\n      <td>12</td>\n    </tr>\n    <tr>\n      <th>6</th>\n      <td>2008</td>\n      <td>33</td>\n      <td>29</td>\n      <td>46</td>\n      <td>20</td>\n      <td>21</td>\n    </tr>\n    <tr>\n      <th>7</th>\n      <td>2009</td>\n      <td>42</td>\n      <td>48</td>\n      <td>72</td>\n      <td>22</td>\n      <td>33</td>\n    </tr>\n    <tr>\n      <th>8</th>\n      <td>2010</td>\n      <td>37</td>\n      <td>34</td>\n      <td>37</td>\n      <td>11</td>\n      <td>17</td>\n    </tr>\n    <tr>\n      <th>9</th>\n      <td>2011</td>\n      <td>50</td>\n      <td>41</td>\n      <td>38</td>\n      <td>14</td>\n      <td>30</td>\n    </tr>\n    <tr>\n      <th>10</th>\n      <td>2012</td>\n      <td>76</td>\n      <td>52</td>\n      <td>65</td>\n      <td>26</td>\n      <td>23</td>\n    </tr>\n    <tr>\n      <th>11</th>\n      <td>2013</td>\n      <td>70</td>\n      <td>79</td>\n      <td>63</td>\n      <td>12</td>\n      <td>24</td>\n    </tr>\n    <tr>\n      <th>12</th>\n      <td>2014</td>\n      <td>64</td>\n      <td>91</td>\n      <td>57</td>\n      <td>14</td>\n      <td>28</td>\n    </tr>\n    <tr>\n      <th>13</th>\n      <td>2015</td>\n      <td>96</td>\n      <td>110</td>\n      <td>83</td>\n      <td>22</td>\n      <td>49</td>\n    </tr>\n    <tr>\n      <th>14</th>\n      <td>2016</td>\n      <td>57</td>\n      <td>96</td>\n      <td>62</td>\n      <td>33</td>\n      <td>77</td>\n    </tr>\n    <tr>\n      <th>15</th>\n      <td>2017</td>\n      <td>82</td>\n      <td>120</td>\n      <td>65</td>\n      <td>33</td>\n      <td>101</td>\n    </tr>\n    <tr>\n      <th>16</th>\n      <td>2018</td>\n      <td>82</td>\n      <td>120</td>\n      <td>71</td>\n      <td>47</td>\n      <td>116</td>\n    </tr>\n    <tr>\n      <th>17</th>\n      <td>2019</td>\n      <td>72</td>\n      <td>103</td>\n      <td>90</td>\n      <td>78</td>\n      <td>97</td>\n    </tr>\n  </tbody>\n</table>\n</div>"
     },
     "execution_count": 202,
     "metadata": {},
     "output_type": "execute_result"
    }
   ],
   "source": [
    "BAcheck = caculate_grad_BA_numbers('21PD',[56980,56978,56984,56981,56842])\n",
    "BAcheck"
   ],
   "metadata": {
    "collapsed": false,
    "pycharm": {
     "name": "#%%\n"
    }
   }
  },
  {
   "cell_type": "code",
   "execution_count": 37,
   "outputs": [],
   "source": [
    "def caculate_grad_BA_region(school_code, program_code):\n",
    "    \"\"\"\n",
    "    calculate the number of gradated BA students from different countries each year\n",
    "    \"\"\"\n",
    "    df = BA_grads[(BA_grads[2] < 10) &(BA_grads[3] == school_code)  & (BA_grads[5].astype(int) == program_code)]\n",
    "    year_counts = []\n",
    "    for year in df[1].unique():\n",
    "        statuses = {}\n",
    "        subset = df.loc[(df[1] == year)]\n",
    "        statuses[\"Year\"] = year\n",
    "        statuses[\"BA_Total\"] = subset['region'].count()\n",
    "        for i in range(1, 4):\n",
    "            statuses[i] = len(subset[subset['region'].astype(int) == i]) #region\n",
    "        statuses[\"BtoM\"] = len(subset[subset[17].astype(int) == 1]) # same school\n",
    "        year_counts.append(statuses)\n",
    "    dfml = pd.DataFrame(year_counts).rename(columns={1:'BA_NL',2:'BA_EEA',3:'BA_others'}).sort_values(['Year'])\n",
    "    return(dfml)"
   ],
   "metadata": {
    "collapsed": false,
    "pycharm": {
     "name": "#%%\n"
    }
   }
  },
  {
   "cell_type": "code",
   "execution_count": 38,
   "outputs": [
    {
     "data": {
      "text/plain": "    Year  BA_Total  BA_NL  BA_EEA  BA_others  BtoM\n0   2002         3      3       0          0     3\n1   2003         5      5       0          0     3\n2   2004        12     11       1          0    10\n3   2005        34     34       0          0    29\n4   2006        38     37       0          1    30\n5   2007        16     15       1          0    12\n6   2008        31     30       1          0    27\n7   2009        40     40       0          0    35\n8   2010        35     35       0          0    30\n9   2011        48     46       2          0    34\n10  2012        75     73       2          0    58\n11  2013        69     68       1          0    46\n12  2014        61     61       0          0    47\n13  2015        88     87       1          0    59\n14  2016        53     53       0          0    41\n15  2017        80     79       1          0    56\n16  2018        80     79       1          0    51\n17  2019        71     70       1          0    45",
      "text/html": "<div>\n<style scoped>\n    .dataframe tbody tr th:only-of-type {\n        vertical-align: middle;\n    }\n\n    .dataframe tbody tr th {\n        vertical-align: top;\n    }\n\n    .dataframe thead th {\n        text-align: right;\n    }\n</style>\n<table border=\"1\" class=\"dataframe\">\n  <thead>\n    <tr style=\"text-align: right;\">\n      <th></th>\n      <th>Year</th>\n      <th>BA_Total</th>\n      <th>BA_NL</th>\n      <th>BA_EEA</th>\n      <th>BA_others</th>\n      <th>BtoM</th>\n    </tr>\n  </thead>\n  <tbody>\n    <tr>\n      <th>0</th>\n      <td>2002</td>\n      <td>3</td>\n      <td>3</td>\n      <td>0</td>\n      <td>0</td>\n      <td>3</td>\n    </tr>\n    <tr>\n      <th>1</th>\n      <td>2003</td>\n      <td>5</td>\n      <td>5</td>\n      <td>0</td>\n      <td>0</td>\n      <td>3</td>\n    </tr>\n    <tr>\n      <th>2</th>\n      <td>2004</td>\n      <td>12</td>\n      <td>11</td>\n      <td>1</td>\n      <td>0</td>\n      <td>10</td>\n    </tr>\n    <tr>\n      <th>3</th>\n      <td>2005</td>\n      <td>34</td>\n      <td>34</td>\n      <td>0</td>\n      <td>0</td>\n      <td>29</td>\n    </tr>\n    <tr>\n      <th>4</th>\n      <td>2006</td>\n      <td>38</td>\n      <td>37</td>\n      <td>0</td>\n      <td>1</td>\n      <td>30</td>\n    </tr>\n    <tr>\n      <th>5</th>\n      <td>2007</td>\n      <td>16</td>\n      <td>15</td>\n      <td>1</td>\n      <td>0</td>\n      <td>12</td>\n    </tr>\n    <tr>\n      <th>6</th>\n      <td>2008</td>\n      <td>31</td>\n      <td>30</td>\n      <td>1</td>\n      <td>0</td>\n      <td>27</td>\n    </tr>\n    <tr>\n      <th>7</th>\n      <td>2009</td>\n      <td>40</td>\n      <td>40</td>\n      <td>0</td>\n      <td>0</td>\n      <td>35</td>\n    </tr>\n    <tr>\n      <th>8</th>\n      <td>2010</td>\n      <td>35</td>\n      <td>35</td>\n      <td>0</td>\n      <td>0</td>\n      <td>30</td>\n    </tr>\n    <tr>\n      <th>9</th>\n      <td>2011</td>\n      <td>48</td>\n      <td>46</td>\n      <td>2</td>\n      <td>0</td>\n      <td>34</td>\n    </tr>\n    <tr>\n      <th>10</th>\n      <td>2012</td>\n      <td>75</td>\n      <td>73</td>\n      <td>2</td>\n      <td>0</td>\n      <td>58</td>\n    </tr>\n    <tr>\n      <th>11</th>\n      <td>2013</td>\n      <td>69</td>\n      <td>68</td>\n      <td>1</td>\n      <td>0</td>\n      <td>46</td>\n    </tr>\n    <tr>\n      <th>12</th>\n      <td>2014</td>\n      <td>61</td>\n      <td>61</td>\n      <td>0</td>\n      <td>0</td>\n      <td>47</td>\n    </tr>\n    <tr>\n      <th>13</th>\n      <td>2015</td>\n      <td>88</td>\n      <td>87</td>\n      <td>1</td>\n      <td>0</td>\n      <td>59</td>\n    </tr>\n    <tr>\n      <th>14</th>\n      <td>2016</td>\n      <td>53</td>\n      <td>53</td>\n      <td>0</td>\n      <td>0</td>\n      <td>41</td>\n    </tr>\n    <tr>\n      <th>15</th>\n      <td>2017</td>\n      <td>80</td>\n      <td>79</td>\n      <td>1</td>\n      <td>0</td>\n      <td>56</td>\n    </tr>\n    <tr>\n      <th>16</th>\n      <td>2018</td>\n      <td>80</td>\n      <td>79</td>\n      <td>1</td>\n      <td>0</td>\n      <td>51</td>\n    </tr>\n    <tr>\n      <th>17</th>\n      <td>2019</td>\n      <td>71</td>\n      <td>70</td>\n      <td>1</td>\n      <td>0</td>\n      <td>45</td>\n    </tr>\n  </tbody>\n</table>\n</div>"
     },
     "execution_count": 38,
     "metadata": {},
     "output_type": "execute_result"
    }
   ],
   "source": [
    "BAcheck = caculate_grad_BA_region('21PD', 56980)\n",
    "BAcheck\n"
   ],
   "metadata": {
    "collapsed": false,
    "pycharm": {
     "name": "#%%\n"
    }
   }
  },
  {
   "cell_type": "markdown",
   "source": [
    "### caculate the regions"
   ],
   "metadata": {
    "collapsed": false
   }
  },
  {
   "cell_type": "code",
   "execution_count": 54,
   "outputs": [
    {
     "data": {
      "text/plain": "    Year  all_NL  all_EEA  all_others  all_BtoM\n14  2015      78        4           1        68\n15  2016      99        2           2        93\n16  2017      87        5           8        78\n0   2018     108        9           5       101\n1   2019      98       17           4        92",
      "text/html": "<div>\n<style scoped>\n    .dataframe tbody tr th:only-of-type {\n        vertical-align: middle;\n    }\n\n    .dataframe tbody tr th {\n        vertical-align: top;\n    }\n\n    .dataframe thead th {\n        text-align: right;\n    }\n</style>\n<table border=\"1\" class=\"dataframe\">\n  <thead>\n    <tr style=\"text-align: right;\">\n      <th></th>\n      <th>Year</th>\n      <th>all_NL</th>\n      <th>all_EEA</th>\n      <th>all_others</th>\n      <th>all_BtoM</th>\n    </tr>\n  </thead>\n  <tbody>\n    <tr>\n      <th>14</th>\n      <td>2015</td>\n      <td>78</td>\n      <td>4</td>\n      <td>1</td>\n      <td>68</td>\n    </tr>\n    <tr>\n      <th>15</th>\n      <td>2016</td>\n      <td>99</td>\n      <td>2</td>\n      <td>2</td>\n      <td>93</td>\n    </tr>\n    <tr>\n      <th>16</th>\n      <td>2017</td>\n      <td>87</td>\n      <td>5</td>\n      <td>8</td>\n      <td>78</td>\n    </tr>\n    <tr>\n      <th>0</th>\n      <td>2018</td>\n      <td>108</td>\n      <td>9</td>\n      <td>5</td>\n      <td>101</td>\n    </tr>\n    <tr>\n      <th>1</th>\n      <td>2019</td>\n      <td>98</td>\n      <td>17</td>\n      <td>4</td>\n      <td>92</td>\n    </tr>\n  </tbody>\n</table>\n</div>"
     },
     "execution_count": 54,
     "metadata": {},
     "output_type": "execute_result"
    }
   ],
   "source": [
    "\"\"\"\n",
    "21PH=[59336,56066,56962,59335,56953]\n",
    "21PF=[56965,56964,56962,56953]\n",
    "21PB=[56980,56978,50205,50206]\n",
    "21PD=[56980,56978,56984,56981,56842]\n",
    "\"\"\"\n",
    "from functools import reduce\n",
    "school_count = []\n",
    "for program in [59336,56066,56962,56953]:\n",
    "    BAcheck = pd.DataFrame(caculate_grad_BA_region('21PH', program))\n",
    "    school_count.append(BAcheck)\n",
    "check = reduce(lambda  left,right: pd.merge(left,right,on=['Year'], how='outer'), school_count).fillna('0').astype(int)\n",
    "\n",
    "check['all_NL']=check['BA_NL_x'].sum(axis=1) + check['BA_NL_y'].sum(axis=1)\n",
    "check['all_EEA']=check['BA_EEA_x'].sum(axis=1) + check['BA_EEA_y'].sum(axis=1)\n",
    "check['all_others']=check['BA_others_x'].sum(axis=1) + check['BA_others_y'].sum(axis=1)\n",
    "check['all_BtoM']=check['BtoM_x'].sum(axis=1) + check['BtoM_y'].sum(axis=1)\n",
    "\n",
    "\"\"\"\n",
    "check['all_NL']=check['1_x'].sum(axis=1) + check['1_y'].sum(axis=1) + check[1]\n",
    "check['all_EEA']=check['2_x'].sum(axis=1) + check['2_y'].sum(axis=1) + check[2]\n",
    "check['all_others']=check['3_x'].sum(axis=1) + check['3_y'].sum(axis=1) + check[3]\n",
    "check['all_BtoM']=check['BtoM_x'].sum(axis=1) + check['BtoM_y'].sum(axis=1) + check['BtoM']\n",
    "\"\"\"\n",
    "\n",
    "#check['sum']=check.iloc[:,1:6].astype(int).sum(axis=1)\n",
    "check[['Year','all_NL','all_EEA','all_others','all_BtoM']].sort_values(['Year']).tail()"
   ],
   "metadata": {
    "collapsed": false,
    "pycharm": {
     "name": "#%%\n"
    }
   }
  },
  {
   "cell_type": "markdown",
   "source": [],
   "metadata": {
    "collapsed": false
   }
  },
  {
   "cell_type": "code",
   "execution_count": 198,
   "outputs": [],
   "source": [
    "#.to_csv('__.csv',index='Year')"
   ],
   "metadata": {
    "collapsed": false,
    "pycharm": {
     "name": "#%%\n"
    }
   }
  },
  {
   "cell_type": "code",
   "execution_count": 205,
   "outputs": [],
   "source": [
    "info = pd.read_csv('/Users/xutingxuan/Desktop/MSc ADS/Thesis/Code/data/VSNU_training.csv')"
   ],
   "metadata": {
    "collapsed": false,
    "pycharm": {
     "name": "#%%\n"
    }
   }
  },
  {
   "cell_type": "code",
   "execution_count": 207,
   "outputs": [
    {
     "name": "stdout",
     "output_type": "stream",
     "text": [
      "<class 'pandas.core.frame.DataFrame'>\n",
      "RangeIndex: 40 entries, 0 to 39\n",
      "Data columns (total 10 columns):\n",
      " #   Column                Non-Null Count  Dtype\n",
      "---  ------                --------------  -----\n",
      " 0   Year                  40 non-null     int64\n",
      " 1   BA_Math               40 non-null     int64\n",
      " 2   BA_Informatica        40 non-null     int64\n",
      " 3   BA_Physics_Astronomy  40 non-null     int64\n",
      " 4   BA_AI                 40 non-null     int64\n",
      " 5   BA_NL                 40 non-null     int64\n",
      " 6   BA_EEA                40 non-null     int64\n",
      " 7   BA_others             40 non-null     int64\n",
      " 8   BAtoMA                40 non-null     int64\n",
      " 9   MA_CS                 40 non-null     int64\n",
      "dtypes: int64(10)\n",
      "memory usage: 3.2 KB\n"
     ]
    }
   ],
   "source": [
    "info.info()"
   ],
   "metadata": {
    "collapsed": false,
    "pycharm": {
     "name": "#%%\n"
    }
   }
  },
  {
   "cell_type": "code",
   "execution_count": null,
   "outputs": [],
   "source": [],
   "metadata": {
    "collapsed": false,
    "pycharm": {
     "name": "#%%\n"
    }
   }
  }
 ],
 "metadata": {
  "kernelspec": {
   "display_name": "Python 3",
   "language": "python",
   "name": "python3"
  },
  "language_info": {
   "codemirror_mode": {
    "name": "ipython",
    "version": 2
   },
   "file_extension": ".py",
   "mimetype": "text/x-python",
   "name": "python",
   "nbconvert_exporter": "python",
   "pygments_lexer": "ipython2",
   "version": "2.7.6"
  }
 },
 "nbformat": 4,
 "nbformat_minor": 0
}